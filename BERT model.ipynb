{
 "cells": [
  {
   "cell_type": "markdown",
   "id": "bc4adb7a",
   "metadata": {},
   "source": [
    "#### some libraries for lab computers"
   ]
  },
  {
   "cell_type": "markdown",
   "id": "d459ca8f",
   "metadata": {
    "collapsed": true
   },
   "source": [
    "!pip install torch -U"
   ]
  },
  {
   "cell_type": "markdown",
   "id": "3b78331b",
   "metadata": {
    "collapsed": true
   },
   "source": [
    "!pip install torch torchvision torchaudio --user --index-url https://download.pytorch.org/whl/cu117"
   ]
  },
  {
   "cell_type": "markdown",
   "id": "afe2b0da",
   "metadata": {
    "collapsed": true
   },
   "source": [
    "!pip install torch torchvision"
   ]
  },
  {
   "cell_type": "markdown",
   "id": "dd37eb1a",
   "metadata": {},
   "source": [
    "!pip install transformers==4.38.2"
   ]
  },
  {
   "cell_type": "markdown",
   "id": "38f14241",
   "metadata": {},
   "source": [
    "-------------------"
   ]
  },
  {
   "cell_type": "code",
   "execution_count": 1,
   "id": "7c4e6a44",
   "metadata": {},
   "outputs": [],
   "source": [
    "#importing relevant libraries\n",
    "import os\n",
    "import pandas as pd\n",
    "import numpy as np\n",
    "import matplotlib.pyplot as plt\n",
    "\n",
    "from sklearn.metrics import accuracy_score, f1_score, precision_score, recall_score\n",
    "from sklearn.metrics import classification_report\n",
    "from sklearn.metrics import confusion_matrix\n",
    "\n",
    "import seaborn as sns"
   ]
  },
  {
   "cell_type": "code",
   "execution_count": 2,
   "id": "8a91185b",
   "metadata": {},
   "outputs": [],
   "source": [
    "#specifying column names\n",
    "column_names=['label','sentence']"
   ]
  },
  {
   "cell_type": "code",
   "execution_count": 3,
   "id": "c3beb52c",
   "metadata": {},
   "outputs": [
    {
     "data": {
      "text/html": [
       "<div>\n",
       "<style scoped>\n",
       "    .dataframe tbody tr th:only-of-type {\n",
       "        vertical-align: middle;\n",
       "    }\n",
       "\n",
       "    .dataframe tbody tr th {\n",
       "        vertical-align: top;\n",
       "    }\n",
       "\n",
       "    .dataframe thead th {\n",
       "        text-align: right;\n",
       "    }\n",
       "</style>\n",
       "<table border=\"1\" class=\"dataframe\">\n",
       "  <thead>\n",
       "    <tr style=\"text-align: right;\">\n",
       "      <th></th>\n",
       "      <th>label</th>\n",
       "      <th>sentence</th>\n",
       "    </tr>\n",
       "  </thead>\n",
       "  <tbody>\n",
       "    <tr>\n",
       "      <th>0</th>\n",
       "      <td>not_propaganda</td>\n",
       "      <td>No, &lt;BOS&gt; he &lt;EOS&gt; will not be confirmed.</td>\n",
       "    </tr>\n",
       "    <tr>\n",
       "      <th>1</th>\n",
       "      <td>not_propaganda</td>\n",
       "      <td>This declassification effort &lt;BOS&gt; won’t make ...</td>\n",
       "    </tr>\n",
       "    <tr>\n",
       "      <th>2</th>\n",
       "      <td>flag_waving</td>\n",
       "      <td>\"The Obama administration misled the &lt;BOS&gt; Ame...</td>\n",
       "    </tr>\n",
       "    <tr>\n",
       "      <th>3</th>\n",
       "      <td>not_propaganda</td>\n",
       "      <td>“It looks like we’re capturing the demise of t...</td>\n",
       "    </tr>\n",
       "    <tr>\n",
       "      <th>4</th>\n",
       "      <td>not_propaganda</td>\n",
       "      <td>&lt;BOS&gt; Location: Westerville, Ohio &lt;EOS&gt;</td>\n",
       "    </tr>\n",
       "  </tbody>\n",
       "</table>\n",
       "</div>"
      ],
      "text/plain": [
       "            label                                           sentence\n",
       "0  not_propaganda         No, <BOS> he <EOS> will not be confirmed. \n",
       "1  not_propaganda  This declassification effort <BOS> won’t make ...\n",
       "2     flag_waving  \"The Obama administration misled the <BOS> Ame...\n",
       "3  not_propaganda  “It looks like we’re capturing the demise of t...\n",
       "4  not_propaganda           <BOS> Location: Westerville, Ohio <EOS> "
      ]
     },
     "execution_count": 3,
     "metadata": {},
     "output_type": "execute_result"
    }
   ],
   "source": [
    "#reading train data\n",
    "train_df=pd.read_csv(\"propaganda_train.tsv\",delimiter=\"\\t\",quotechar='|')\n",
    "train_df.columns=column_names\n",
    "train_df.head()"
   ]
  },
  {
   "cell_type": "code",
   "execution_count": 4,
   "id": "a641f50e",
   "metadata": {},
   "outputs": [
    {
     "data": {
      "text/html": [
       "<div>\n",
       "<style scoped>\n",
       "    .dataframe tbody tr th:only-of-type {\n",
       "        vertical-align: middle;\n",
       "    }\n",
       "\n",
       "    .dataframe tbody tr th {\n",
       "        vertical-align: top;\n",
       "    }\n",
       "\n",
       "    .dataframe thead th {\n",
       "        text-align: right;\n",
       "    }\n",
       "</style>\n",
       "<table border=\"1\" class=\"dataframe\">\n",
       "  <thead>\n",
       "    <tr style=\"text-align: right;\">\n",
       "      <th></th>\n",
       "      <th>label</th>\n",
       "      <th>sentence</th>\n",
       "    </tr>\n",
       "  </thead>\n",
       "  <tbody>\n",
       "    <tr>\n",
       "      <th>0</th>\n",
       "      <td>not_propaganda</td>\n",
       "      <td>On average, between 300 and 600 infections are...</td>\n",
       "    </tr>\n",
       "    <tr>\n",
       "      <th>1</th>\n",
       "      <td>causal_oversimplification</td>\n",
       "      <td>Mostly because &lt;BOS&gt; the country would not las...</td>\n",
       "    </tr>\n",
       "    <tr>\n",
       "      <th>2</th>\n",
       "      <td>appeal_to_fear_prejudice</td>\n",
       "      <td>Lyndon Johnson &lt;BOS&gt; gets Earl Warren and Sen....</td>\n",
       "    </tr>\n",
       "    <tr>\n",
       "      <th>3</th>\n",
       "      <td>not_propaganda</td>\n",
       "      <td>&lt;BOS&gt; You &lt;EOS&gt; may opt out at anytime.</td>\n",
       "    </tr>\n",
       "    <tr>\n",
       "      <th>4</th>\n",
       "      <td>repetition</td>\n",
       "      <td>It must be exacted from him directly in order ...</td>\n",
       "    </tr>\n",
       "  </tbody>\n",
       "</table>\n",
       "</div>"
      ],
      "text/plain": [
       "                       label  \\\n",
       "0             not_propaganda   \n",
       "1  causal_oversimplification   \n",
       "2   appeal_to_fear_prejudice   \n",
       "3             not_propaganda   \n",
       "4                 repetition   \n",
       "\n",
       "                                            sentence  \n",
       "0  On average, between 300 and 600 infections are...  \n",
       "1  Mostly because <BOS> the country would not las...  \n",
       "2  Lyndon Johnson <BOS> gets Earl Warren and Sen....  \n",
       "3           <BOS> You <EOS> may opt out at anytime.   \n",
       "4  It must be exacted from him directly in order ...  "
      ]
     },
     "execution_count": 4,
     "metadata": {},
     "output_type": "execute_result"
    }
   ],
   "source": [
    "#reading validation data\n",
    "val_df=pd.read_csv(\"propaganda_val.tsv\",delimiter=\"\\t\",quotechar='|')\n",
    "val_df.columns=column_names\n",
    "val_df.head()"
   ]
  },
  {
   "cell_type": "code",
   "execution_count": 5,
   "id": "165ea4f9",
   "metadata": {},
   "outputs": [
    {
     "name": "stdout",
     "output_type": "stream",
     "text": [
      "There is no propaganda type which doesn't exist in both\n"
     ]
    }
   ],
   "source": [
    "#to check whether there is a different class which has train or validation, while it doesn't exist in the other one\n",
    "alist=[]\n",
    "for (label_train,label_val) in zip(train_df['label'].unique(),val_df['label'].unique()):\n",
    "    if label_train not in val_df['label'].unique():\n",
    "        alist.append(label_train)\n",
    "    elif label_val not in train_df['label'].unique():\n",
    "        alist.append(label_val)\n",
    "if len(alist)!=0:\n",
    "    print('There are {} propaganda types which don\\'t exist in both'.format(len(alist_tr)))\n",
    "elif len(alist)==0:\n",
    "    print('There is no propaganda type which doesn\\'t exist in both')"
   ]
  },
  {
   "cell_type": "code",
   "execution_count": 6,
   "id": "518e09bd",
   "metadata": {},
   "outputs": [
    {
     "data": {
      "text/plain": [
       "label\n",
       "not_propaganda               1269\n",
       "exaggeration,minimisation     170\n",
       "name_calling,labeling         166\n",
       "causal_oversimplification     165\n",
       "loaded_language               161\n",
       "repetition                    160\n",
       "doubt                         157\n",
       "appeal_to_fear_prejudice      157\n",
       "flag_waving                   155\n",
       "Name: count, dtype: int64"
      ]
     },
     "execution_count": 6,
     "metadata": {},
     "output_type": "execute_result"
    }
   ],
   "source": [
    "#number of labels in train data\n",
    "train_df.label.value_counts()"
   ]
  },
  {
   "cell_type": "code",
   "execution_count": 7,
   "id": "cd62d55d",
   "metadata": {},
   "outputs": [
    {
     "data": {
      "text/plain": [
       "label\n",
       "not_propaganda               331\n",
       "flag_waving                   45\n",
       "appeal_to_fear_prejudice      43\n",
       "doubt                         43\n",
       "repetition                    40\n",
       "loaded_language               39\n",
       "causal_oversimplification     35\n",
       "name_calling,labeling         34\n",
       "exaggeration,minimisation     30\n",
       "Name: count, dtype: int64"
      ]
     },
     "execution_count": 7,
     "metadata": {},
     "output_type": "execute_result"
    }
   ],
   "source": [
    "#number of labels in validation data\n",
    "val_df.label.value_counts()"
   ]
  },
  {
   "cell_type": "code",
   "execution_count": 8,
   "id": "b049b1bf",
   "metadata": {},
   "outputs": [
    {
     "name": "stdout",
     "output_type": "stream",
     "text": [
      "<class 'pandas.core.frame.DataFrame'>\n",
      "RangeIndex: 2560 entries, 0 to 2559\n",
      "Data columns (total 2 columns):\n",
      " #   Column    Non-Null Count  Dtype \n",
      "---  ------    --------------  ----- \n",
      " 0   label     2560 non-null   object\n",
      " 1   sentence  2560 non-null   object\n",
      "dtypes: object(2)\n",
      "memory usage: 40.1+ KB\n"
     ]
    }
   ],
   "source": [
    "#train data info\n",
    "train_df.info()"
   ]
  },
  {
   "cell_type": "code",
   "execution_count": 9,
   "id": "c312d3c7",
   "metadata": {},
   "outputs": [
    {
     "name": "stdout",
     "output_type": "stream",
     "text": [
      "<class 'pandas.core.frame.DataFrame'>\n",
      "RangeIndex: 640 entries, 0 to 639\n",
      "Data columns (total 2 columns):\n",
      " #   Column    Non-Null Count  Dtype \n",
      "---  ------    --------------  ----- \n",
      " 0   label     640 non-null    object\n",
      " 1   sentence  640 non-null    object\n",
      "dtypes: object(2)\n",
      "memory usage: 10.1+ KB\n"
     ]
    }
   ],
   "source": [
    "#validation data info\n",
    "val_df.info()"
   ]
  },
  {
   "cell_type": "code",
   "execution_count": 10,
   "id": "3f1c5f03",
   "metadata": {},
   "outputs": [
    {
     "data": {
      "image/png": "[encoded data removed]",
      "text/plain": [
       "<Figure size 640x480 with 1 Axes>"
      ]
     },
     "metadata": {},
     "output_type": "display_data"
    }
   ],
   "source": [
    "#train data label distribution\n",
    "train_df.label.value_counts().plot(kind='bar')\n",
    "plt.title('Training Dataset Distribution')\n",
    "plt.xlabel('Propaganda Types')\n",
    "plt.ylabel('The Number')\n",
    "plt.xticks(rotation=45, ha=\"right\")\n",
    "plt.show()"
   ]
  },
  {
   "cell_type": "code",
   "execution_count": 11,
   "id": "0e8ab5f3",
   "metadata": {},
   "outputs": [
    {
     "data": {
      "image/png": "[encoded data removed]",
      "text/plain": [
       "<Figure size 640x480 with 1 Axes>"
      ]
     },
     "metadata": {},
     "output_type": "display_data"
    }
   ],
   "source": [
    "#validation data label distribution\n",
    "val_df.label.value_counts().plot(kind='bar')\n",
    "plt.title('Validation Dataset Distribution')\n",
    "plt.xlabel('Propaganda Types')\n",
    "plt.ylabel('The Number')\n",
    "plt.xticks(rotation=45, ha=\"right\")\n",
    "plt.show()"
   ]
  },
  {
   "cell_type": "markdown",
   "id": "7ea738bb",
   "metadata": {},
   "source": [
    "# Task1: Propaganda Detection"
   ]
  },
  {
   "cell_type": "code",
   "execution_count": 12,
   "id": "ac58ebd9",
   "metadata": {},
   "outputs": [],
   "source": [
    "#copying dataframes to keep the actual data save\n",
    "train_df2=train_df.copy(deep=True)\n",
    "val_df2=val_df.copy(deep=True)"
   ]
  },
  {
   "cell_type": "markdown",
   "id": "90e3642c",
   "metadata": {},
   "source": [
    "## Changing Propaganda Types with \"Propaganda\" Label"
   ]
  },
  {
   "cell_type": "markdown",
   "id": "41610749",
   "metadata": {},
   "source": [
    "Since we want to find whether a sentence contains propaganda, we need to change the propaganda types with \"propaganda\" label."
   ]
  },
  {
   "cell_type": "code",
   "execution_count": 13,
   "id": "d65469ad",
   "metadata": {},
   "outputs": [
    {
     "data": {
      "text/html": [
       "<div>\n",
       "<style scoped>\n",
       "    .dataframe tbody tr th:only-of-type {\n",
       "        vertical-align: middle;\n",
       "    }\n",
       "\n",
       "    .dataframe tbody tr th {\n",
       "        vertical-align: top;\n",
       "    }\n",
       "\n",
       "    .dataframe thead th {\n",
       "        text-align: right;\n",
       "    }\n",
       "</style>\n",
       "<table border=\"1\" class=\"dataframe\">\n",
       "  <thead>\n",
       "    <tr style=\"text-align: right;\">\n",
       "      <th></th>\n",
       "      <th>label</th>\n",
       "      <th>sentence</th>\n",
       "    </tr>\n",
       "  </thead>\n",
       "  <tbody>\n",
       "    <tr>\n",
       "      <th>0</th>\n",
       "      <td>not_propaganda</td>\n",
       "      <td>No, &lt;BOS&gt; he &lt;EOS&gt; will not be confirmed.</td>\n",
       "    </tr>\n",
       "    <tr>\n",
       "      <th>1</th>\n",
       "      <td>not_propaganda</td>\n",
       "      <td>This declassification effort &lt;BOS&gt; won’t make ...</td>\n",
       "    </tr>\n",
       "    <tr>\n",
       "      <th>2</th>\n",
       "      <td>propaganda</td>\n",
       "      <td>\"The Obama administration misled the &lt;BOS&gt; Ame...</td>\n",
       "    </tr>\n",
       "    <tr>\n",
       "      <th>3</th>\n",
       "      <td>not_propaganda</td>\n",
       "      <td>“It looks like we’re capturing the demise of t...</td>\n",
       "    </tr>\n",
       "    <tr>\n",
       "      <th>4</th>\n",
       "      <td>not_propaganda</td>\n",
       "      <td>&lt;BOS&gt; Location: Westerville, Ohio &lt;EOS&gt;</td>\n",
       "    </tr>\n",
       "  </tbody>\n",
       "</table>\n",
       "</div>"
      ],
      "text/plain": [
       "            label                                           sentence\n",
       "0  not_propaganda         No, <BOS> he <EOS> will not be confirmed. \n",
       "1  not_propaganda  This declassification effort <BOS> won’t make ...\n",
       "2      propaganda  \"The Obama administration misled the <BOS> Ame...\n",
       "3  not_propaganda  “It looks like we’re capturing the demise of t...\n",
       "4  not_propaganda           <BOS> Location: Westerville, Ohio <EOS> "
      ]
     },
     "execution_count": 13,
     "metadata": {},
     "output_type": "execute_result"
    }
   ],
   "source": [
    "#change propaganda types as propaganda\n",
    "train_df2['label']=train_df2['label'].apply(lambda x: x if x=='not_propaganda' else 'propaganda')\n",
    "val_df2['label']=val_df2['label'].apply(lambda x: x if x=='not_propaganda' else 'propaganda')\n",
    "train_df2.head()"
   ]
  },
  {
   "cell_type": "markdown",
   "id": "ed90b236",
   "metadata": {},
   "source": [
    "## Removing BOS and EOS Tags"
   ]
  },
  {
   "cell_type": "markdown",
   "id": "b72076b7",
   "metadata": {},
   "source": [
    "Normally, we can't see any tag, when we find the data from a source such as social media. The tags **< BOS >** and **< EOS >** should be removed from each sentence."
   ]
  },
  {
   "cell_type": "code",
   "execution_count": 14,
   "id": "cc208fc2",
   "metadata": {},
   "outputs": [],
   "source": [
    "#replace the tags with empty character in trainin data\n",
    "train_df2['sentence']=train_df2['sentence'].apply(lambda x: x.replace(\"<BOS>\",\"\").replace(\"<EOS>\",\"\").replace(\"  \",\" \"))"
   ]
  },
  {
   "cell_type": "code",
   "execution_count": 15,
   "id": "0e9e3e63",
   "metadata": {},
   "outputs": [
    {
     "data": {
      "text/html": [
       "<div>\n",
       "<style scoped>\n",
       "    .dataframe tbody tr th:only-of-type {\n",
       "        vertical-align: middle;\n",
       "    }\n",
       "\n",
       "    .dataframe tbody tr th {\n",
       "        vertical-align: top;\n",
       "    }\n",
       "\n",
       "    .dataframe thead th {\n",
       "        text-align: right;\n",
       "    }\n",
       "</style>\n",
       "<table border=\"1\" class=\"dataframe\">\n",
       "  <thead>\n",
       "    <tr style=\"text-align: right;\">\n",
       "      <th></th>\n",
       "      <th>label</th>\n",
       "      <th>sentence</th>\n",
       "    </tr>\n",
       "  </thead>\n",
       "  <tbody>\n",
       "    <tr>\n",
       "      <th>0</th>\n",
       "      <td>not_propaganda</td>\n",
       "      <td>No, he will not be confirmed.</td>\n",
       "    </tr>\n",
       "    <tr>\n",
       "      <th>1</th>\n",
       "      <td>not_propaganda</td>\n",
       "      <td>This declassification effort won’t make things...</td>\n",
       "    </tr>\n",
       "    <tr>\n",
       "      <th>2</th>\n",
       "      <td>propaganda</td>\n",
       "      <td>\"The Obama administration misled the American ...</td>\n",
       "    </tr>\n",
       "    <tr>\n",
       "      <th>3</th>\n",
       "      <td>not_propaganda</td>\n",
       "      <td>“It looks like we’re capturing the demise of t...</td>\n",
       "    </tr>\n",
       "    <tr>\n",
       "      <th>4</th>\n",
       "      <td>not_propaganda</td>\n",
       "      <td>Location: Westerville, Ohio</td>\n",
       "    </tr>\n",
       "  </tbody>\n",
       "</table>\n",
       "</div>"
      ],
      "text/plain": [
       "            label                                           sentence\n",
       "0  not_propaganda                     No, he will not be confirmed. \n",
       "1  not_propaganda  This declassification effort won’t make things...\n",
       "2      propaganda  \"The Obama administration misled the American ...\n",
       "3  not_propaganda  “It looks like we’re capturing the demise of t...\n",
       "4  not_propaganda                       Location: Westerville, Ohio "
      ]
     },
     "execution_count": 15,
     "metadata": {},
     "output_type": "execute_result"
    }
   ],
   "source": [
    "#display training data to be sure last changes\n",
    "train_df2.head()"
   ]
  },
  {
   "cell_type": "code",
   "execution_count": 16,
   "id": "58f28855",
   "metadata": {},
   "outputs": [],
   "source": [
    "#replace the tags with empty character in validation data\n",
    "val_df2['sentence']=val_df2['sentence'].apply(lambda x: x.replace(\"<BOS>\",\"\").replace(\"<EOS>\",\"\").replace(\"  \",\" \"))"
   ]
  },
  {
   "cell_type": "code",
   "execution_count": 17,
   "id": "d7530e09",
   "metadata": {},
   "outputs": [
    {
     "data": {
      "text/html": [
       "<div>\n",
       "<style scoped>\n",
       "    .dataframe tbody tr th:only-of-type {\n",
       "        vertical-align: middle;\n",
       "    }\n",
       "\n",
       "    .dataframe tbody tr th {\n",
       "        vertical-align: top;\n",
       "    }\n",
       "\n",
       "    .dataframe thead th {\n",
       "        text-align: right;\n",
       "    }\n",
       "</style>\n",
       "<table border=\"1\" class=\"dataframe\">\n",
       "  <thead>\n",
       "    <tr style=\"text-align: right;\">\n",
       "      <th></th>\n",
       "      <th>label</th>\n",
       "      <th>sentence</th>\n",
       "    </tr>\n",
       "  </thead>\n",
       "  <tbody>\n",
       "    <tr>\n",
       "      <th>0</th>\n",
       "      <td>not_propaganda</td>\n",
       "      <td>On average, between 300 and 600 infections are...</td>\n",
       "    </tr>\n",
       "    <tr>\n",
       "      <th>1</th>\n",
       "      <td>propaganda</td>\n",
       "      <td>Mostly because the country would not last long...</td>\n",
       "    </tr>\n",
       "    <tr>\n",
       "      <th>2</th>\n",
       "      <td>propaganda</td>\n",
       "      <td>Lyndon Johnson gets Earl Warren and Sen. Richa...</td>\n",
       "    </tr>\n",
       "    <tr>\n",
       "      <th>3</th>\n",
       "      <td>not_propaganda</td>\n",
       "      <td>You may opt out at anytime.</td>\n",
       "    </tr>\n",
       "    <tr>\n",
       "      <th>4</th>\n",
       "      <td>propaganda</td>\n",
       "      <td>It must be exacted from him directly in order ...</td>\n",
       "    </tr>\n",
       "  </tbody>\n",
       "</table>\n",
       "</div>"
      ],
      "text/plain": [
       "            label                                           sentence\n",
       "0  not_propaganda  On average, between 300 and 600 infections are...\n",
       "1      propaganda  Mostly because the country would not last long...\n",
       "2      propaganda  Lyndon Johnson gets Earl Warren and Sen. Richa...\n",
       "3  not_propaganda                       You may opt out at anytime. \n",
       "4      propaganda  It must be exacted from him directly in order ..."
      ]
     },
     "execution_count": 17,
     "metadata": {},
     "output_type": "execute_result"
    }
   ],
   "source": [
    "#display validation data to be sure last changes\n",
    "val_df2.head()"
   ]
  },
  {
   "cell_type": "code",
   "execution_count": 18,
   "id": "87939d72",
   "metadata": {},
   "outputs": [
    {
     "data": {
      "text/plain": [
       "{'not_propaganda': 0, 'propaganda': 1}"
      ]
     },
     "execution_count": 18,
     "metadata": {},
     "output_type": "execute_result"
    }
   ],
   "source": [
    "#creating 2 dictionaries:\n",
    "#labels: labels are as key, 0 and 1 are as value. Each label has a unique number\n",
    "#reverse_index: reverse version of labels\n",
    "labels={}\n",
    "reverse_index={}\n",
    "for i,j in enumerate(train_df2.label.unique()):\n",
    "    labels[j]=i\n",
    "    reverse_index[i]=j\n",
    "labels"
   ]
  },
  {
   "cell_type": "code",
   "execution_count": 19,
   "id": "8e4cbd0c",
   "metadata": {},
   "outputs": [
    {
     "data": {
      "text/plain": [
       "{0: 'not_propaganda', 1: 'propaganda'}"
      ]
     },
     "execution_count": 19,
     "metadata": {},
     "output_type": "execute_result"
    }
   ],
   "source": [
    "#display reverse index dictionary to check\n",
    "#reverse_index={i:label for i,label in enumerate(labels)}   #another method to create reverse index\n",
    "reverse_index"
   ]
  },
  {
   "cell_type": "markdown",
   "id": "a212a5c6",
   "metadata": {},
   "source": [
    "## **Hyperparameters:**\n",
    "\n",
    "**epochs:** [1,5,10]\n",
    "\n",
    "**batch_size:** [2,4,8,16,32,64]\n",
    "\n",
    "**Learning Rate:** [1e-6, 1e-4, 1e-2]\n",
    "\n",
    "**freeze and unfreeze the model weights:** model.bert.requires_grad_(False) **or** model.bert.requires_grad_(True)\n",
    "\n",
    "**Bert Model (large/base):** google-bert/bert-large-uncased **or** bert-base-uncased\n",
    "\n"
   ]
  },
  {
   "cell_type": "code",
   "execution_count": 20,
   "id": "5a8171df",
   "metadata": {},
   "outputs": [],
   "source": [
    "#import required libraries\n",
    "import torch\n",
    "import numpy as np\n",
    "import time\n",
    "#import Bert tokenizer and model from Huggingface\n",
    "from transformers import BertTokenizer, BertModel"
   ]
  },
  {
   "cell_type": "code",
   "execution_count": 21,
   "id": "3464b9da",
   "metadata": {},
   "outputs": [],
   "source": [
    "class Dataset(torch.utils.data.Dataset):\n",
    "\n",
    "    def __init__(self,df,text_column_name):\n",
    "        self.labels=[labels[label] for label in df[\"label\"]]\n",
    "        self.texts=[tokenizer(text.lower(),padding='max_length',max_length=512,truncation=True,return_tensors=\"pt\") for text in df[text_column_name]]\n",
    "\n",
    "    def classes(self):\n",
    "        return self.labels\n",
    "\n",
    "    def __len__(self):\n",
    "        return len(self.labels)\n",
    "\n",
    "    def get_batch_labels(self,idx):\n",
    "        return np.array(self.labels[idx])\n",
    "\n",
    "    def get_batch_texts(self,idx):\n",
    "        return self.texts[idx]\n",
    "\n",
    "    def __getitem__(self,idx):\n",
    "        batch_texts=self.get_batch_texts(idx)\n",
    "        batch_y=self.get_batch_labels(idx)\n",
    "\n",
    "        return batch_texts,batch_y"
   ]
  },
  {
   "cell_type": "code",
   "execution_count": 22,
   "id": "07fb3bb8",
   "metadata": {},
   "outputs": [],
   "source": [
    "#prepare inputs for GPU\n",
    "def prepare_inputs(input1,label,device):\n",
    "    label=label.to(device)\n",
    "    mask=input1['attention_mask'].to(device)\n",
    "    input_id=input1['input_ids'].squeeze(1).to(device)\n",
    "    return (input_id,mask,label)"
   ]
  },
  {
   "cell_type": "code",
   "execution_count": 23,
   "id": "b749a95a",
   "metadata": {},
   "outputs": [],
   "source": [
    "def bertModel(par=\"base\"):\n",
    "    if par==\"base\":\n",
    "        return \"bert-base-uncased\"\n",
    "    elif par==\"large\":\n",
    "        return \"google-bert/bert-large-uncased\""
   ]
  },
  {
   "cell_type": "code",
   "execution_count": 24,
   "id": "5ea98e41",
   "metadata": {
    "scrolled": true
   },
   "outputs": [],
   "source": [
    "#now we need to put a simple classification layer on top of BERT\n",
    "\n",
    "\n",
    "from torch import nn\n",
    "\n",
    "\n",
    "class BertClassifier(nn.Module):\n",
    "\n",
    "    def __init__(self,dropout=0.5,num_classes=2):\n",
    "\n",
    "        super(BertClassifier,self).__init__()\n",
    "\n",
    "        self.bert=BertModel.from_pretrained(bert_model)\n",
    "        self.dropout=nn.Dropout(dropout)\n",
    "        self.linear=nn.Linear(self.bert.config.hidden_size,num_classes)\n",
    "        self.relu=nn.ReLU()\n",
    "\n",
    "    def forward(self,input_id,mask):\n",
    "\n",
    "        last_hidden_layer,pooled_output = self.bert(input_ids=input_id,attention_mask=mask,return_dict=False)\n",
    "        dropout_output=self.dropout(pooled_output)\n",
    "        linear_output=self.linear(dropout_output)\n",
    "        final_layer=self.relu(linear_output)\n",
    "\n",
    "        return final_layer"
   ]
  },
  {
   "cell_type": "code",
   "execution_count": 25,
   "id": "346ebbed",
   "metadata": {},
   "outputs": [],
   "source": [
    "def get_labels_from_tensor(predictions):\n",
    "    alist=[]\n",
    "    for prediction_tensor in predictions:\n",
    "        for prediction in prediction_tensor:\n",
    "            alist.append(prediction.cpu().numpy().item())\n",
    "    return alist"
   ]
  },
  {
   "cell_type": "code",
   "execution_count": 26,
   "id": "f8c1aa53",
   "metadata": {},
   "outputs": [],
   "source": [
    "#we now need a training loop\n",
    "\n",
    "from torch.optim import Adam\n",
    "from tqdm import tqdm  #useful library to report on progress through an iteration\n",
    "\n",
    "\n",
    "def train(model, train_data,val_data,list_numeric_val,learning_rate,epochs,batch_size):\n",
    "    \n",
    "    alist=[]\n",
    "    \n",
    "    starting=time.time()\n",
    "    train_dataloader=torch.utils.data.DataLoader(train_data,batch_size,shuffle=True)\n",
    "    val_dataloader=torch.utils.data.DataLoader(val_data,batch_size)\n",
    "\n",
    "    use_cuda=torch.cuda.is_available()\n",
    "    device=torch.device(\"cuda\" if use_cuda else \"cpu\")\n",
    "\n",
    "    criterion=nn.CrossEntropyLoss()\n",
    "    optimizer=Adam(model.parameters(),lr=learning_rate)\n",
    "\n",
    "    if use_cuda:\n",
    "        model=model.cuda()\n",
    "        criterion=criterion.cuda()\n",
    "\n",
    "    for epoch_num in range(epochs):\n",
    "        adict={}\n",
    "        total_acc_train=0\n",
    "        total_loss_train=0\n",
    "        model.train()\n",
    "        prediction_list_train=[]\n",
    "        for train_input,train_label in tqdm(train_dataloader):\n",
    "\n",
    "            input_id,mask, train_label=prepare_inputs(train_input,train_label,device)\n",
    "\n",
    "            output=model(input_id,mask)\n",
    "\n",
    "            batch_loss=criterion(output,train_label.long())\n",
    "            total_loss_train +=batch_loss.item()\n",
    "\n",
    "            acc=(output.argmax(dim=1)==train_label).sum().item()\n",
    "        \n",
    "            prediction_list_train.append(output.argmax(dim=1))\n",
    "            total_acc_train+=acc\n",
    "\n",
    "            model.zero_grad()\n",
    "            batch_loss.backward()\n",
    "            optimizer.step()\n",
    "\n",
    "        total_acc_val=0\n",
    "        total_loss_val=0\n",
    "        model.eval()\n",
    "        prediction_list_val=[]\n",
    "        with torch.no_grad():\n",
    "            for val_input,val_label in val_dataloader:\n",
    "\n",
    "                input_id,mask, val_label=prepare_inputs(val_input,val_label,device)\n",
    "\n",
    "                output=model(input_id,mask)\n",
    "\n",
    "                batch_loss=criterion(output,val_label.long())\n",
    "\n",
    "                total_loss_val+=batch_loss.item()\n",
    "\n",
    "                acc=(output.argmax(dim=1)==val_label).sum().item()\n",
    "                \n",
    "                total_acc_val+=acc\n",
    "               \n",
    "                prediction_list_val.append(output.argmax(dim=1))\n",
    "                \n",
    "      \n",
    "                    \n",
    "        ending=time.time()\n",
    "        elapsed_time=ending-starting\n",
    "        adict[\"epochs\"]= epochs\n",
    "        adict[\"train_loss\"]= total_loss_train / len(train_data)\n",
    "        adict[\"train_accuracy\"]= total_acc_train/len(train_data)\n",
    "\n",
    "        adict[\"val_loss\"]= total_loss_val/len(val_data)\n",
    "        adict[\"val_accuracy\"]= total_acc_val / len(val_data)\n",
    "        adict[\"time\"]=elapsed_time\n",
    "        \n",
    "        adict[\"batch_size\"]=batch_size\n",
    "        adict[\"Bert Model\"]=bert_model\n",
    "        adict[\"learning rate\"]=learning_rate\n",
    "        \n",
    "        prediction_list_val=get_labels_from_tensor(prediction_list_val)\n",
    "        prediction_list_train=get_labels_from_tensor(prediction_list_train)\n",
    "        \n",
    "       #adict[\"accuracy\"] = accuracy_score(list_numeric_val, prediction_list_val)\n",
    "       #adict[\"f1\"] = f1_score(list_numeric_val, prediction_list_val)\n",
    "       #adict[\"precision\"] = precision_score(list_numeric_val, prediction_list_val)\n",
    "       #adict[\"recall\"] = recall_score(list_numeric_val, prediction_list_val)\n",
    "        \n",
    "        alist.append(adict)\n",
    "       \n",
    "    return alist,prediction_list_train,prediction_list_val"
   ]
  },
  {
   "cell_type": "code",
   "execution_count": 27,
   "id": "260f38e2",
   "metadata": {},
   "outputs": [],
   "source": [
    "use_cuda=torch.cuda.is_available()\n",
    "device=torch.device(\"cuda\" if use_cuda else \"cpu\")"
   ]
  },
  {
   "cell_type": "code",
   "execution_count": 28,
   "id": "af86408e",
   "metadata": {},
   "outputs": [],
   "source": [
    "from sklearn.metrics import classification_report"
   ]
  },
  {
   "cell_type": "code",
   "execution_count": 29,
   "id": "92b26f68",
   "metadata": {},
   "outputs": [],
   "source": [
    "def freezeBERT(freeze=True):\n",
    "    if freeze==True:\n",
    "        par=False\n",
    "    elif freeze==False:\n",
    "        par=True\n",
    "    return par    "
   ]
  },
  {
   "cell_type": "code",
   "execution_count": 30,
   "id": "20abfd66",
   "metadata": {},
   "outputs": [],
   "source": [
    "def evaluate(model, train_data,val_data,list_numeric_val,learning_rate,epochs,batch_size):\n",
    "    \n",
    "    alist=[]\n",
    "   \n",
    "    train_dataloader=torch.utils.data.DataLoader(train_data,batch_size,shuffle=True)\n",
    "    val_dataloader=torch.utils.data.DataLoader(val_data,batch_size)\n",
    "\n",
    "    use_cuda=torch.cuda.is_available()\n",
    "    device=torch.device(\"cuda\" if use_cuda else \"cpu\")\n",
    "\n",
    "    criterion=nn.CrossEntropyLoss()\n",
    "    optimizer=Adam(model.parameters(),lr=learning_rate)\n",
    "\n",
    "    if use_cuda:\n",
    "        model=model.cuda()\n",
    "        criterion=criterion.cuda()\n",
    "\n",
    "    for epoch_num in range(epochs):\n",
    "        adict={}\n",
    "        total_acc_train=0\n",
    "        total_loss_train=0\n",
    "        \n",
    "        prediction_list_train=[]\n",
    "\n",
    "        total_acc_val=0\n",
    "        total_loss_val=0\n",
    "        model.eval()\n",
    "        prediction_list_val=[]\n",
    "        with torch.no_grad():\n",
    "            for val_input,val_label in tqdm(val_dataloader):\n",
    "\n",
    "                input_id,mask, val_label=prepare_inputs(val_input,val_label,device)\n",
    "\n",
    "                output=model(input_id,mask)\n",
    "\n",
    "                batch_loss=criterion(output,val_label.long())\n",
    "\n",
    "                total_loss_val+=batch_loss.item()\n",
    "\n",
    "                acc=(output.argmax(dim=1)==val_label).sum().item()\n",
    "                \n",
    "                total_acc_val+=acc\n",
    "               \n",
    "                prediction_list_val.append(output.argmax(dim=1))\n",
    "                \n",
    "      \n",
    "                    \n",
    "    \n",
    "        adict[\"epochs\"]= epoch_num\n",
    "        adict[\"val_loss\"]= total_loss_val/len(val_data)\n",
    "        adict[\"val_accuracy\"]= total_acc_val / len(val_data)\n",
    "        \n",
    "        \n",
    "        prediction_list_val=get_labels_from_tensor(prediction_list_val)\n",
    "        \n",
    "        \n",
    "        adict[\"accuracy\"] = accuracy_score(list_numeric_val, prediction_list_val)\n",
    "        adict[\"f1\"] = f1_score(list_numeric_val, prediction_list_val, average='weighted')\n",
    "        adict[\"precision\"] = precision_score(list_numeric_val, prediction_list_val, average='weighted')\n",
    "        adict[\"recall\"] = recall_score(list_numeric_val, prediction_list_val, average='weighted')\n",
    "        \n",
    "        alist.append(adict)\n",
    "       \n",
    "    return alist,prediction_list_val"
   ]
  },
  {
   "cell_type": "markdown",
   "id": "df88de9c",
   "metadata": {},
   "source": [
    "## Base BERT Model"
   ]
  },
  {
   "cell_type": "markdown",
   "id": "5bb5539d",
   "metadata": {},
   "source": [
    "## Freeze Model Weights (not good approach)"
   ]
  },
  {
   "cell_type": "markdown",
   "id": "8da4e78a",
   "metadata": {},
   "source": [
    "**epochs:** [1,5,10]\n",
    "\n",
    "The Bert Model was trained with different epochs to see the effect of it over Freeze Model"
   ]
  },
  {
   "cell_type": "code",
   "execution_count": 30,
   "id": "5972227f",
   "metadata": {},
   "outputs": [],
   "source": [
    "#to remove the warnings from the laboratory computer\n",
    "import warnings\n",
    "warnings.filterwarnings(\"ignore\", message=\"`resume_download` is deprecated.*\")"
   ]
  },
  {
   "cell_type": "code",
   "execution_count": 31,
   "id": "ce866468",
   "metadata": {},
   "outputs": [],
   "source": [
    "epochs=[1,5,10]\n",
    "learning_rates= [1e-6]\n",
    "batch_sizes=[2]\n",
    "\n",
    "text_column_name='sentence'\n",
    "bert_model=bertModel(par=\"base\")\n",
    "\n",
    "par_freeze=freezeBERT(freeze=True)\n",
    "num_classes=len(labels.keys())\n",
    "tokenizer=BertTokenizer.from_pretrained(bert_model)"
   ]
  },
  {
   "cell_type": "code",
   "execution_count": 32,
   "id": "3ee8cc7f",
   "metadata": {},
   "outputs": [],
   "source": [
    "train_data=Dataset(train_df2,text_column_name)\n",
    "val_data=Dataset(val_df2,text_column_name)\n",
    "list_numeric_train=list(train_df2['label'].apply(lambda x: labels[x]))\n",
    "list_numeric_val=list(val_df2['label'].apply(lambda x: labels[x]))"
   ]
  },
  {
   "cell_type": "code",
   "execution_count": 40,
   "id": "b03f4937",
   "metadata": {},
   "outputs": [
    {
     "name": "stderr",
     "output_type": "stream",
     "text": [
      "100%|██████████████████████████████████████████████████████████████████████████████| 1280/1280 [00:46<00:00, 27.55it/s]\n"
     ]
    },
    {
     "name": "stdout",
     "output_type": "stream",
     "text": [
      "[{'epochs': 1, 'train_loss': 0.37503574856091293, 'train_accuracy': 0.491796875, 'val_loss': 0.36745564863085745, 'val_accuracy': 0.5125, 'time': 57.3298020362854, 'batch_size': 2, 'Bert Model': 'bert-base-uncased', 'learning rate': 1e-06}]\n"
     ]
    },
    {
     "name": "stderr",
     "output_type": "stream",
     "text": [
      "100%|██████████████████████████████████████████████████████████████████████████████| 1280/1280 [00:46<00:00, 27.24it/s]\n",
      "100%|██████████████████████████████████████████████████████████████████████████████| 1280/1280 [00:47<00:00, 27.11it/s]\n",
      "100%|██████████████████████████████████████████████████████████████████████████████| 1280/1280 [00:47<00:00, 27.12it/s]\n",
      "100%|██████████████████████████████████████████████████████████████████████████████| 1280/1280 [00:47<00:00, 27.09it/s]\n",
      "100%|██████████████████████████████████████████████████████████████████████████████| 1280/1280 [00:47<00:00, 27.14it/s]\n"
     ]
    },
    {
     "name": "stdout",
     "output_type": "stream",
     "text": [
      "[{'epochs': 5, 'train_loss': 0.34984508499037476, 'train_accuracy': 0.5046875, 'val_loss': 0.3493897423148155, 'val_accuracy': 0.5171875, 'time': 57.87662172317505, 'batch_size': 2, 'Bert Model': 'bert-base-uncased', 'learning rate': 1e-06}, {'epochs': 5, 'train_loss': 0.3480174231925048, 'train_accuracy': 0.52734375, 'val_loss': 0.3493088614195585, 'val_accuracy': 0.5171875, 'time': 116.15096640586853, 'batch_size': 2, 'Bert Model': 'bert-base-uncased', 'learning rate': 1e-06}, {'epochs': 5, 'train_loss': 0.3475203254143707, 'train_accuracy': 0.522265625, 'val_loss': 0.3492447404190898, 'val_accuracy': 0.51875, 'time': 174.30576634407043, 'batch_size': 2, 'Bert Model': 'bert-base-uncased', 'learning rate': 1e-06}, {'epochs': 5, 'train_loss': 0.3487329370575026, 'train_accuracy': 0.52109375, 'val_loss': 0.3491719448007643, 'val_accuracy': 0.51875, 'time': 232.56426310539246, 'batch_size': 2, 'Bert Model': 'bert-base-uncased', 'learning rate': 1e-06}, {'epochs': 5, 'train_loss': 0.34769124487647785, 'train_accuracy': 0.5140625, 'val_loss': 0.3491066859103739, 'val_accuracy': 0.5171875, 'time': 290.6852676868439, 'batch_size': 2, 'Bert Model': 'bert-base-uncased', 'learning rate': 1e-06}]\n"
     ]
    },
    {
     "name": "stderr",
     "output_type": "stream",
     "text": [
      "100%|██████████████████████████████████████████████████████████████████████████████| 1280/1280 [00:47<00:00, 27.14it/s]\n",
      "100%|██████████████████████████████████████████████████████████████████████████████| 1280/1280 [00:48<00:00, 26.54it/s]\n",
      "100%|██████████████████████████████████████████████████████████████████████████████| 1280/1280 [00:48<00:00, 26.58it/s]\n",
      "100%|██████████████████████████████████████████████████████████████████████████████| 1280/1280 [00:47<00:00, 26.82it/s]\n",
      "100%|██████████████████████████████████████████████████████████████████████████████| 1280/1280 [00:48<00:00, 26.65it/s]\n",
      "100%|██████████████████████████████████████████████████████████████████████████████| 1280/1280 [00:47<00:00, 26.93it/s]\n",
      "100%|██████████████████████████████████████████████████████████████████████████████| 1280/1280 [00:47<00:00, 26.75it/s]\n",
      "100%|██████████████████████████████████████████████████████████████████████████████| 1280/1280 [00:47<00:00, 26.83it/s]\n",
      "100%|██████████████████████████████████████████████████████████████████████████████| 1280/1280 [00:47<00:00, 26.96it/s]\n",
      "100%|██████████████████████████████████████████████████████████████████████████████| 1280/1280 [00:47<00:00, 27.04it/s]\n"
     ]
    },
    {
     "name": "stdout",
     "output_type": "stream",
     "text": [
      "[{'epochs': 10, 'train_loss': 0.3544487020233646, 'train_accuracy': 0.51328125, 'val_loss': 0.3513301582075655, 'val_accuracy': 0.4828125, 'time': 58.1642861366272, 'batch_size': 2, 'Bert Model': 'bert-base-uncased', 'learning rate': 1e-06}, {'epochs': 10, 'train_loss': 0.3534991342574358, 'train_accuracy': 0.514453125, 'val_loss': 0.3496551105752587, 'val_accuracy': 0.484375, 'time': 117.30585527420044, 'batch_size': 2, 'Bert Model': 'bert-base-uncased', 'learning rate': 1e-06}, {'epochs': 10, 'train_loss': 0.35092268583830444, 'train_accuracy': 0.522265625, 'val_loss': 0.3485502299852669, 'val_accuracy': 0.4875, 'time': 176.8728542327881, 'batch_size': 2, 'Bert Model': 'bert-base-uncased', 'learning rate': 1e-06}, {'epochs': 10, 'train_loss': 0.35252540501533075, 'train_accuracy': 0.498046875, 'val_loss': 0.34745822157710793, 'val_accuracy': 0.50625, 'time': 235.52796030044556, 'batch_size': 2, 'Bert Model': 'bert-base-uncased', 'learning rate': 1e-06}, {'epochs': 10, 'train_loss': 0.350439057580661, 'train_accuracy': 0.5109375, 'val_loss': 0.3469660268165171, 'val_accuracy': 0.53125, 'time': 294.59239983558655, 'batch_size': 2, 'Bert Model': 'bert-base-uncased', 'learning rate': 1e-06}, {'epochs': 10, 'train_loss': 0.34992295475676655, 'train_accuracy': 0.503515625, 'val_loss': 0.34692287910729647, 'val_accuracy': 0.553125, 'time': 353.08561968803406, 'batch_size': 2, 'Bert Model': 'bert-base-uncased', 'learning rate': 1e-06}, {'epochs': 10, 'train_loss': 0.3506479891133495, 'train_accuracy': 0.504296875, 'val_loss': 0.3469826614484191, 'val_accuracy': 0.553125, 'time': 412.1242935657501, 'batch_size': 2, 'Bert Model': 'bert-base-uncased', 'learning rate': 1e-06}, {'epochs': 10, 'train_loss': 0.3508528990671039, 'train_accuracy': 0.49765625, 'val_loss': 0.34708306808024647, 'val_accuracy': 0.5296875, 'time': 470.8542013168335, 'batch_size': 2, 'Bert Model': 'bert-base-uncased', 'learning rate': 1e-06}, {'epochs': 10, 'train_loss': 0.3506442938465625, 'train_accuracy': 0.498046875, 'val_loss': 0.3471352300606668, 'val_accuracy': 0.5421875, 'time': 529.2445864677429, 'batch_size': 2, 'Bert Model': 'bert-base-uncased', 'learning rate': 1e-06}, {'epochs': 10, 'train_loss': 0.3505318558192812, 'train_accuracy': 0.499609375, 'val_loss': 0.34721979247406126, 'val_accuracy': 0.528125, 'time': 587.5807507038116, 'batch_size': 2, 'Bert Model': 'bert-base-uncased', 'learning rate': 1e-06}]\n"
     ]
    }
   ],
   "source": [
    "results=[]\n",
    "for learning_rate in learning_rates:\n",
    "    for batch_size in batch_sizes:\n",
    "        for epoch in epochs:\n",
    "\n",
    "            model=BertClassifier(num_classes=num_classes)\n",
    "            model.bert.requires_grad_(par_freeze)\n",
    "\n",
    "            result,train_pred,val_pred=train(model,train_data,val_data,list_numeric_val,learning_rate,epoch,batch_size)\n",
    "            print(result)\n",
    "            for i in result:\n",
    "                results.append(i)"
   ]
  },
  {
   "cell_type": "code",
   "execution_count": 41,
   "id": "c5acd8ee",
   "metadata": {},
   "outputs": [
    {
     "data": {
      "text/plain": [
       "{'epochs': 1,\n",
       " 'train_loss': 0.37503574856091293,\n",
       " 'train_accuracy': 0.491796875,\n",
       " 'val_loss': 0.36745564863085745,\n",
       " 'val_accuracy': 0.5125,\n",
       " 'time': 57.3298020362854,\n",
       " 'batch_size': 2,\n",
       " 'Bert Model': 'bert-base-uncased',\n",
       " 'learning rate': 1e-06}"
      ]
     },
     "execution_count": 41,
     "metadata": {},
     "output_type": "execute_result"
    }
   ],
   "source": [
    "results[0]"
   ]
  },
  {
   "cell_type": "code",
   "execution_count": 42,
   "id": "54c4369e",
   "metadata": {},
   "outputs": [
    {
     "data": {
      "text/plain": [
       "{'epochs': 10,\n",
       " 'train_loss': 0.3505318558192812,\n",
       " 'train_accuracy': 0.499609375,\n",
       " 'val_loss': 0.34721979247406126,\n",
       " 'val_accuracy': 0.528125,\n",
       " 'time': 587.5807507038116,\n",
       " 'batch_size': 2,\n",
       " 'Bert Model': 'bert-base-uncased',\n",
       " 'learning rate': 1e-06}"
      ]
     },
     "execution_count": 42,
     "metadata": {},
     "output_type": "execute_result"
    }
   ],
   "source": [
    "results[-1]"
   ]
  },
  {
   "cell_type": "markdown",
   "id": "7ba2a701",
   "metadata": {},
   "source": [
    "According to the values above, it can be seen the comparison of the first and the last version of the model. The model metrics don't change much. Because of that, I decided to not freeze model weights."
   ]
  },
  {
   "cell_type": "markdown",
   "id": "16475793",
   "metadata": {},
   "source": [
    "## Unfreeze Model Weights (good approach)"
   ]
  },
  {
   "cell_type": "markdown",
   "id": "71923172",
   "metadata": {},
   "source": [
    "### Increasing epochs (good approach)"
   ]
  },
  {
   "cell_type": "code",
   "execution_count": null,
   "id": "243d6d2b",
   "metadata": {},
   "outputs": [],
   "source": [
    "epochs=[1,5,10]\n",
    "learning_rates= [1e-6]\n",
    "batch_sizes=[2]\n",
    "\n",
    "text_column_name='sentence'\n",
    "bert_model=bertModel(par=\"base\")\n",
    "\n",
    "num_classes=len(labels.keys())\n",
    "tokenizer=BertTokenizer.from_pretrained(bert_model)"
   ]
  },
  {
   "cell_type": "code",
   "execution_count": 42,
   "id": "09f0c413",
   "metadata": {},
   "outputs": [
    {
     "name": "stderr",
     "output_type": "stream",
     "text": [
      "100%|██████████████████████████████████████████████████████████████████████████████| 1280/1280 [02:29<00:00,  8.56it/s]\n"
     ]
    },
    {
     "name": "stdout",
     "output_type": "stream",
     "text": [
      "[{'epochs': 1, 'train_loss': 0.3478223793907091, 'train_accuracy': 0.516015625, 'val_loss': 0.34489974156022074, 'val_accuracy': 0.5609375, 'time': 161.23563861846924, 'batch_size': 2, 'Bert Model': 'bert-base-uncased', 'learning rate': 1e-06}]\n"
     ]
    },
    {
     "name": "stderr",
     "output_type": "stream",
     "text": [
      "100%|██████████████████████████████████████████████████████████████████████████████| 1280/1280 [02:32<00:00,  8.38it/s]\n",
      "100%|██████████████████████████████████████████████████████████████████████████████| 1280/1280 [02:33<00:00,  8.35it/s]\n",
      "100%|██████████████████████████████████████████████████████████████████████████████| 1280/1280 [02:32<00:00,  8.38it/s]\n",
      "100%|██████████████████████████████████████████████████████████████████████████████| 1280/1280 [02:30<00:00,  8.48it/s]\n",
      "100%|██████████████████████████████████████████████████████████████████████████████| 1280/1280 [02:32<00:00,  8.41it/s]\n"
     ]
    },
    {
     "name": "stdout",
     "output_type": "stream",
     "text": [
      "[{'epochs': 5, 'train_loss': 0.3361634766100906, 'train_accuracy': 0.583203125, 'val_loss': 0.31579831619746984, 'val_accuracy': 0.6875, 'time': 163.82938647270203, 'batch_size': 2, 'Bert Model': 'bert-base-uncased', 'learning rate': 1e-06}, {'epochs': 5, 'train_loss': 0.2947529974451754, 'train_accuracy': 0.708203125, 'val_loss': 0.28282905560918153, 'val_accuracy': 0.7375, 'time': 328.77224946022034, 'batch_size': 2, 'Bert Model': 'bert-base-uncased', 'learning rate': 1e-06}, {'epochs': 5, 'train_loss': 0.2650277906970587, 'train_accuracy': 0.75625, 'val_loss': 0.26837885356508195, 'val_accuracy': 0.7359375, 'time': 492.5877010822296, 'batch_size': 2, 'Bert Model': 'bert-base-uncased', 'learning rate': 1e-06}, {'epochs': 5, 'train_loss': 0.23636938122508583, 'train_accuracy': 0.80234375, 'val_loss': 0.25874069103738295, 'val_accuracy': 0.759375, 'time': 654.7619371414185, 'batch_size': 2, 'Bert Model': 'bert-base-uncased', 'learning rate': 1e-06}, {'epochs': 5, 'train_loss': 0.21739116564276628, 'train_accuracy': 0.819921875, 'val_loss': 0.25635821333853526, 'val_accuracy': 0.753125, 'time': 818.4248692989349, 'batch_size': 2, 'Bert Model': 'bert-base-uncased', 'learning rate': 1e-06}]\n"
     ]
    },
    {
     "name": "stderr",
     "output_type": "stream",
     "text": [
      "100%|██████████████████████████████████████████████████████████████████████████████| 1280/1280 [02:31<00:00,  8.44it/s]\n",
      "100%|██████████████████████████████████████████████████████████████████████████████| 1280/1280 [02:31<00:00,  8.47it/s]\n",
      "100%|██████████████████████████████████████████████████████████████████████████████| 1280/1280 [02:31<00:00,  8.46it/s]\n",
      "100%|██████████████████████████████████████████████████████████████████████████████| 1280/1280 [02:31<00:00,  8.47it/s]\n",
      "100%|██████████████████████████████████████████████████████████████████████████████| 1280/1280 [02:31<00:00,  8.44it/s]\n",
      "100%|██████████████████████████████████████████████████████████████████████████████| 1280/1280 [02:32<00:00,  8.41it/s]\n",
      "100%|██████████████████████████████████████████████████████████████████████████████| 1280/1280 [02:31<00:00,  8.48it/s]\n",
      "100%|██████████████████████████████████████████████████████████████████████████████| 1280/1280 [02:30<00:00,  8.48it/s]\n",
      "100%|██████████████████████████████████████████████████████████████████████████████| 1280/1280 [02:31<00:00,  8.47it/s]\n",
      "100%|██████████████████████████████████████████████████████████████████████████████| 1280/1280 [02:31<00:00,  8.46it/s]\n"
     ]
    },
    {
     "name": "stdout",
     "output_type": "stream",
     "text": [
      "[{'epochs': 10, 'train_loss': 0.3467048775462899, 'train_accuracy': 0.541015625, 'val_loss': 0.3227473312523216, 'val_accuracy': 0.63125, 'time': 162.78060293197632, 'batch_size': 2, 'Bert Model': 'bert-base-uncased', 'learning rate': 1e-06}, {'epochs': 10, 'train_loss': 0.30854885856970216, 'train_accuracy': 0.67265625, 'val_loss': 0.29071182331535966, 'val_accuracy': 0.696875, 'time': 324.99313950538635, 'batch_size': 2, 'Bert Model': 'bert-base-uncased', 'learning rate': 1e-06}, {'epochs': 10, 'train_loss': 0.2799341801262926, 'train_accuracy': 0.732421875, 'val_loss': 0.27826332475524396, 'val_accuracy': 0.709375, 'time': 487.4470031261444, 'batch_size': 2, 'Bert Model': 'bert-base-uncased', 'learning rate': 1e-06}, {'epochs': 10, 'train_loss': 0.25084069354925304, 'train_accuracy': 0.772265625, 'val_loss': 0.2596329820575193, 'val_accuracy': 0.7390625, 'time': 649.6975800991058, 'batch_size': 2, 'Bert Model': 'bert-base-uncased', 'learning rate': 1e-06}, {'epochs': 10, 'train_loss': 0.22745850349019747, 'train_accuracy': 0.8046875, 'val_loss': 0.2630039711599238, 'val_accuracy': 0.7546875, 'time': 812.5831453800201, 'batch_size': 2, 'Bert Model': 'bert-base-uncased', 'learning rate': 1e-06}, {'epochs': 10, 'train_loss': 0.2024575300703873, 'train_accuracy': 0.8359375, 'val_loss': 0.2540603205561638, 'val_accuracy': 0.74375, 'time': 976.1250059604645, 'batch_size': 2, 'Bert Model': 'bert-base-uncased', 'learning rate': 1e-06}, {'epochs': 10, 'train_loss': 0.18362825461663307, 'train_accuracy': 0.859375, 'val_loss': 0.2598608733387664, 'val_accuracy': 0.7375, 'time': 1138.309534072876, 'batch_size': 2, 'Bert Model': 'bert-base-uncased', 'learning rate': 1e-06}, {'epochs': 10, 'train_loss': 0.1633760354874539, 'train_accuracy': 0.88046875, 'val_loss': 0.2697593249380589, 'val_accuracy': 0.7734375, 'time': 1300.404334306717, 'batch_size': 2, 'Bert Model': 'bert-base-uncased', 'learning rate': 1e-06}, {'epochs': 10, 'train_loss': 0.1429007004269806, 'train_accuracy': 0.903515625, 'val_loss': 0.27120082462206485, 'val_accuracy': 0.765625, 'time': 1462.7117874622345, 'batch_size': 2, 'Bert Model': 'bert-base-uncased', 'learning rate': 1e-06}, {'epochs': 10, 'train_loss': 0.12525967482069972, 'train_accuracy': 0.91328125, 'val_loss': 0.27229520048422273, 'val_accuracy': 0.7640625, 'time': 1625.2162284851074, 'batch_size': 2, 'Bert Model': 'bert-base-uncased', 'learning rate': 1e-06}]\n"
     ]
    }
   ],
   "source": [
    "results2=[]\n",
    "for learning_rate in learning_rates:\n",
    "    for batch_size in batch_sizes:\n",
    "        for epoch in epochs:\n",
    "\n",
    "            model=BertClassifier(num_classes=num_classes)\n",
    "            \n",
    "            #not freeze the weights inside the model\n",
    "            #model.bert.requires_grad_(par_freeze) \n",
    "\n",
    "            result2,train_pred2,val_pred2=train(model,train_data,val_data,list_numeric_val,learning_rate,epoch,batch_size)\n",
    "            print(result2)\n",
    "            for i in result2:\n",
    "                results2.append(i)"
   ]
  },
  {
   "cell_type": "markdown",
   "id": "626b799b",
   "metadata": {},
   "source": [
    "### Increasing the learning rate by 10 times (not good approach)"
   ]
  },
  {
   "cell_type": "code",
   "execution_count": 51,
   "id": "1438be2a",
   "metadata": {},
   "outputs": [],
   "source": [
    "epochs=[3]\n",
    "learning_rates= [1e-6, 1e-4, 1e-3, 1e-2, 1e-1]\n",
    "batch_sizes=[2]\n",
    "\n",
    "text_column_name='sentence'\n",
    "bert_model=bertModel(par=\"base\")\n",
    "\n",
    "#par_freeze=freezeBERT(freeze=True)\n",
    "num_classes=len(labels.keys())\n",
    "tokenizer=BertTokenizer.from_pretrained(bert_model)"
   ]
  },
  {
   "cell_type": "code",
   "execution_count": 52,
   "id": "0d1d8fb4",
   "metadata": {},
   "outputs": [
    {
     "name": "stderr",
     "output_type": "stream",
     "text": [
      "100%|██████████████████████████████████████████████████████████████████████████████| 1280/1280 [02:31<00:00,  8.44it/s]\n",
      "100%|██████████████████████████████████████████████████████████████████████████████| 1280/1280 [02:32<00:00,  8.37it/s]\n",
      "100%|██████████████████████████████████████████████████████████████████████████████| 1280/1280 [02:32<00:00,  8.41it/s]\n"
     ]
    },
    {
     "name": "stdout",
     "output_type": "stream",
     "text": [
      "[{'epochs': 3, 'train_loss': 0.34499598789261654, 'train_accuracy': 0.504296875, 'val_loss': 0.3385951236821711, 'val_accuracy': 0.51875, 'time': 163.0237331390381, 'batch_size': 2, 'Bert Model': 'bert-base-uncased', 'learning rate': 1e-06}, {'epochs': 3, 'train_loss': 0.33429325780598446, 'train_accuracy': 0.551953125, 'val_loss': 0.3130773472134024, 'val_accuracy': 0.6875, 'time': 327.06197452545166, 'batch_size': 2, 'Bert Model': 'bert-base-uncased', 'learning rate': 1e-06}, {'epochs': 3, 'train_loss': 0.29696556786657313, 'train_accuracy': 0.6984375, 'val_loss': 0.2815822914708406, 'val_accuracy': 0.73125, 'time': 490.83604407310486, 'batch_size': 2, 'Bert Model': 'bert-base-uncased', 'learning rate': 1e-06}]\n"
     ]
    },
    {
     "name": "stderr",
     "output_type": "stream",
     "text": [
      "100%|██████████████████████████████████████████████████████████████████████████████| 1280/1280 [02:34<00:00,  8.30it/s]\n",
      "100%|██████████████████████████████████████████████████████████████████████████████| 1280/1280 [02:30<00:00,  8.48it/s]\n",
      "100%|██████████████████████████████████████████████████████████████████████████████| 1280/1280 [02:32<00:00,  8.37it/s]\n"
     ]
    },
    {
     "name": "stdout",
     "output_type": "stream",
     "text": [
      "[{'epochs': 3, 'train_loss': 0.3472831744060386, 'train_accuracy': 0.4953125, 'val_loss': 0.3465735912322998, 'val_accuracy': 0.5171875, 'time': 165.4354066848755, 'batch_size': 2, 'Bert Model': 'bert-base-uncased', 'learning rate': 0.0001}, {'epochs': 3, 'train_loss': 0.3465735912322998, 'train_accuracy': 0.495703125, 'val_loss': 0.3465735912322998, 'val_accuracy': 0.5171875, 'time': 327.4881341457367, 'batch_size': 2, 'Bert Model': 'bert-base-uncased', 'learning rate': 0.0001}, {'epochs': 3, 'train_loss': 0.34660534881986677, 'train_accuracy': 0.4953125, 'val_loss': 0.3465735912322998, 'val_accuracy': 0.5171875, 'time': 491.68946838378906, 'batch_size': 2, 'Bert Model': 'bert-base-uncased', 'learning rate': 0.0001}]\n"
     ]
    },
    {
     "name": "stderr",
     "output_type": "stream",
     "text": [
      "100%|██████████████████████████████████████████████████████████████████████████████| 1280/1280 [02:32<00:00,  8.42it/s]\n",
      "100%|██████████████████████████████████████████████████████████████████████████████| 1280/1280 [02:31<00:00,  8.43it/s]\n",
      "100%|██████████████████████████████████████████████████████████████████████████████| 1280/1280 [02:30<00:00,  8.49it/s]\n"
     ]
    },
    {
     "name": "stdout",
     "output_type": "stream",
     "text": [
      "[{'epochs': 3, 'train_loss': 0.3481112512003165, 'train_accuracy': 0.496875, 'val_loss': 0.3465735912322998, 'val_accuracy': 0.5171875, 'time': 163.26857900619507, 'batch_size': 2, 'Bert Model': 'bert-base-uncased', 'learning rate': 0.001}, {'epochs': 3, 'train_loss': 0.3465735912322998, 'train_accuracy': 0.495703125, 'val_loss': 0.3465735912322998, 'val_accuracy': 0.5171875, 'time': 325.9797477722168, 'batch_size': 2, 'Bert Model': 'bert-base-uncased', 'learning rate': 0.001}, {'epochs': 3, 'train_loss': 0.3465735912322998, 'train_accuracy': 0.495703125, 'val_loss': 0.3465735912322998, 'val_accuracy': 0.5171875, 'time': 487.6940543651581, 'batch_size': 2, 'Bert Model': 'bert-base-uncased', 'learning rate': 0.001}]\n"
     ]
    },
    {
     "name": "stderr",
     "output_type": "stream",
     "text": [
      "100%|██████████████████████████████████████████████████████████████████████████████| 1280/1280 [02:30<00:00,  8.51it/s]\n",
      "100%|██████████████████████████████████████████████████████████████████████████████| 1280/1280 [02:30<00:00,  8.49it/s]\n",
      "100%|██████████████████████████████████████████████████████████████████████████████| 1280/1280 [02:29<00:00,  8.53it/s]\n"
     ]
    },
    {
     "name": "stdout",
     "output_type": "stream",
     "text": [
      "[{'epochs': 3, 'train_loss': 0.3474565427401103, 'train_accuracy': 0.495703125, 'val_loss': 0.3465735912322998, 'val_accuracy': 0.5171875, 'time': 161.09202980995178, 'batch_size': 2, 'Bert Model': 'bert-base-uncased', 'learning rate': 0.01}, {'epochs': 3, 'train_loss': 0.3465735912322998, 'train_accuracy': 0.495703125, 'val_loss': 0.3465735912322998, 'val_accuracy': 0.5171875, 'time': 322.63833379745483, 'batch_size': 2, 'Bert Model': 'bert-base-uncased', 'learning rate': 0.01}, {'epochs': 3, 'train_loss': 0.3465735912322998, 'train_accuracy': 0.495703125, 'val_loss': 0.3465735912322998, 'val_accuracy': 0.5171875, 'time': 483.68547797203064, 'batch_size': 2, 'Bert Model': 'bert-base-uncased', 'learning rate': 0.01}]\n"
     ]
    },
    {
     "name": "stderr",
     "output_type": "stream",
     "text": [
      "100%|██████████████████████████████████████████████████████████████████████████████| 1280/1280 [02:30<00:00,  8.52it/s]\n",
      "100%|██████████████████████████████████████████████████████████████████████████████| 1280/1280 [02:29<00:00,  8.56it/s]\n",
      "100%|██████████████████████████████████████████████████████████████████████████████| 1280/1280 [02:29<00:00,  8.54it/s]\n"
     ]
    },
    {
     "name": "stdout",
     "output_type": "stream",
     "text": [
      "[{'epochs': 3, 'train_loss': 0.35810427551617197, 'train_accuracy': 0.497265625, 'val_loss': 0.3465735912322998, 'val_accuracy': 0.5171875, 'time': 160.92502903938293, 'batch_size': 2, 'Bert Model': 'bert-base-uncased', 'learning rate': 0.1}, {'epochs': 3, 'train_loss': 0.3465735912322998, 'train_accuracy': 0.495703125, 'val_loss': 0.3465735912322998, 'val_accuracy': 0.5171875, 'time': 321.12188625335693, 'batch_size': 2, 'Bert Model': 'bert-base-uncased', 'learning rate': 0.1}, {'epochs': 3, 'train_loss': 0.3465735912322998, 'train_accuracy': 0.495703125, 'val_loss': 0.3465735912322998, 'val_accuracy': 0.5171875, 'time': 481.7947292327881, 'batch_size': 2, 'Bert Model': 'bert-base-uncased', 'learning rate': 0.1}]\n"
     ]
    }
   ],
   "source": [
    "results3=[]\n",
    "for learning_rate in learning_rates:\n",
    "    for batch_size in batch_sizes:\n",
    "        for epoch in epochs:\n",
    "\n",
    "            model=BertClassifier(num_classes=num_classes) \n",
    "\n",
    "            result3,train_pred3,val_pred3=train(model,train_data,val_data,list_numeric_val,learning_rate,epoch,batch_size)\n",
    "            print(result3)\n",
    "            for i in result3:\n",
    "                results3.append(i)"
   ]
  },
  {
   "cell_type": "markdown",
   "id": "ce60db82",
   "metadata": {},
   "source": [
    "It can be seen that increasing learning rate doesn't change the validation accuracy."
   ]
  },
  {
   "cell_type": "markdown",
   "id": "ce4efbaf",
   "metadata": {},
   "source": [
    "### Decreasing the learning rate (not good approach)"
   ]
  },
  {
   "cell_type": "code",
   "execution_count": 53,
   "id": "1f14202d",
   "metadata": {},
   "outputs": [],
   "source": [
    "epochs=[3]\n",
    "learning_rates= [1e-6, 1e-7, 1e-8, 1e-9, 1e-10]\n",
    "batch_sizes=[2]\n",
    "\n",
    "text_column_name='sentence'\n",
    "bert_model=bertModel(par=\"base\")\n",
    "\n",
    "#par_freeze=freezeBERT(freeze=True)\n",
    "num_classes=len(labels.keys())\n",
    "tokenizer=BertTokenizer.from_pretrained(bert_model)"
   ]
  },
  {
   "cell_type": "code",
   "execution_count": 54,
   "id": "33e605ab",
   "metadata": {},
   "outputs": [
    {
     "name": "stderr",
     "output_type": "stream",
     "text": [
      "100%|██████████████████████████████████████████████████████████████████████████████| 1280/1280 [02:30<00:00,  8.53it/s]\n",
      "100%|██████████████████████████████████████████████████████████████████████████████| 1280/1280 [02:34<00:00,  8.29it/s]\n",
      "100%|██████████████████████████████████████████████████████████████████████████████| 1280/1280 [02:31<00:00,  8.45it/s]\n"
     ]
    },
    {
     "name": "stdout",
     "output_type": "stream",
     "text": [
      "[{'epochs': 3, 'train_loss': 0.3481076033436693, 'train_accuracy': 0.543359375, 'val_loss': 0.32825342668220403, 'val_accuracy': 0.653125, 'time': 161.2693886756897, 'batch_size': 2, 'Bert Model': 'bert-base-uncased', 'learning rate': 1e-06}, {'epochs': 3, 'train_loss': 0.3229832760989666, 'train_accuracy': 0.62109375, 'val_loss': 0.2960332558955997, 'val_accuracy': 0.6875, 'time': 326.99007058143616, 'batch_size': 2, 'Bert Model': 'bert-base-uncased', 'learning rate': 1e-06}, {'epochs': 3, 'train_loss': 0.2802236343210097, 'train_accuracy': 0.73203125, 'val_loss': 0.2706466641044244, 'val_accuracy': 0.734375, 'time': 489.56526947021484, 'batch_size': 2, 'Bert Model': 'bert-base-uncased', 'learning rate': 1e-06}]\n"
     ]
    },
    {
     "name": "stderr",
     "output_type": "stream",
     "text": [
      "100%|██████████████████████████████████████████████████████████████████████████████| 1280/1280 [02:31<00:00,  8.47it/s]\n",
      "100%|██████████████████████████████████████████████████████████████████████████████| 1280/1280 [02:32<00:00,  8.40it/s]\n",
      "100%|██████████████████████████████████████████████████████████████████████████████| 1280/1280 [02:32<00:00,  8.39it/s]\n"
     ]
    },
    {
     "name": "stdout",
     "output_type": "stream",
     "text": [
      "[{'epochs': 3, 'train_loss': 0.34997877676505595, 'train_accuracy': 0.48359375, 'val_loss': 0.34613319104537366, 'val_accuracy': 0.5125, 'time': 162.30133032798767, 'batch_size': 2, 'Bert Model': 'bert-base-uncased', 'learning rate': 1e-07}, {'epochs': 3, 'train_loss': 0.3485695493058302, 'train_accuracy': 0.49921875, 'val_loss': 0.3460578019730747, 'val_accuracy': 0.5140625, 'time': 325.9644811153412, 'batch_size': 2, 'Bert Model': 'bert-base-uncased', 'learning rate': 1e-07}, {'epochs': 3, 'train_loss': 0.3463786052307114, 'train_accuracy': 0.501171875, 'val_loss': 0.3458336151205003, 'val_accuracy': 0.5171875, 'time': 489.80478382110596, 'batch_size': 2, 'Bert Model': 'bert-base-uncased', 'learning rate': 1e-07}]\n"
     ]
    },
    {
     "name": "stderr",
     "output_type": "stream",
     "text": [
      "100%|██████████████████████████████████████████████████████████████████████████████| 1280/1280 [02:31<00:00,  8.45it/s]\n",
      "100%|██████████████████████████████████████████████████████████████████████████████| 1280/1280 [02:32<00:00,  8.38it/s]\n",
      "100%|██████████████████████████████████████████████████████████████████████████████| 1280/1280 [02:32<00:00,  8.41it/s]\n"
     ]
    },
    {
     "name": "stdout",
     "output_type": "stream",
     "text": [
      "[{'epochs': 3, 'train_loss': 0.3526722326874733, 'train_accuracy': 0.5, 'val_loss': 0.3453000628389418, 'val_accuracy': 0.5171875, 'time': 162.6898159980774, 'batch_size': 2, 'Bert Model': 'bert-base-uncased', 'learning rate': 1e-08}, {'epochs': 3, 'train_loss': 0.35292722765589135, 'train_accuracy': 0.5109375, 'val_loss': 0.34501469125971196, 'val_accuracy': 0.5171875, 'time': 326.618901014328, 'batch_size': 2, 'Bert Model': 'bert-base-uncased', 'learning rate': 1e-08}, {'epochs': 3, 'train_loss': 0.35133170924382284, 'train_accuracy': 0.494140625, 'val_loss': 0.3447941975668073, 'val_accuracy': 0.5171875, 'time': 489.98118257522583, 'batch_size': 2, 'Bert Model': 'bert-base-uncased', 'learning rate': 1e-08}]\n"
     ]
    },
    {
     "name": "stderr",
     "output_type": "stream",
     "text": [
      "100%|██████████████████████████████████████████████████████████████████████████████| 1280/1280 [02:31<00:00,  8.43it/s]\n",
      "100%|██████████████████████████████████████████████████████████████████████████████| 1280/1280 [02:32<00:00,  8.38it/s]\n",
      "100%|██████████████████████████████████████████████████████████████████████████████| 1280/1280 [02:30<00:00,  8.48it/s]\n"
     ]
    },
    {
     "name": "stdout",
     "output_type": "stream",
     "text": [
      "[{'epochs': 3, 'train_loss': 0.35013960669748484, 'train_accuracy': 0.50078125, 'val_loss': 0.34769276389852166, 'val_accuracy': 0.5, 'time': 163.1287145614624, 'batch_size': 2, 'Bert Model': 'bert-base-uncased', 'learning rate': 1e-09}, {'epochs': 3, 'train_loss': 0.3534179792040959, 'train_accuracy': 0.48984375, 'val_loss': 0.34768798453733324, 'val_accuracy': 0.5, 'time': 326.99224638938904, 'batch_size': 2, 'Bert Model': 'bert-base-uncased', 'learning rate': 1e-09}, {'epochs': 3, 'train_loss': 0.35190318297827616, 'train_accuracy': 0.487109375, 'val_loss': 0.3476828205399215, 'val_accuracy': 0.5, 'time': 489.10439944267273, 'batch_size': 2, 'Bert Model': 'bert-base-uncased', 'learning rate': 1e-09}]\n"
     ]
    },
    {
     "name": "stderr",
     "output_type": "stream",
     "text": [
      "100%|██████████████████████████████████████████████████████████████████████████████| 1280/1280 [02:31<00:00,  8.43it/s]\n",
      "100%|██████████████████████████████████████████████████████████████████████████████| 1280/1280 [02:32<00:00,  8.42it/s]\n",
      "100%|██████████████████████████████████████████████████████████████████████████████| 1280/1280 [02:32<00:00,  8.40it/s]\n"
     ]
    },
    {
     "name": "stdout",
     "output_type": "stream",
     "text": [
      "[{'epochs': 3, 'train_loss': 0.35799380972748623, 'train_accuracy': 0.50859375, 'val_loss': 0.35295097548514603, 'val_accuracy': 0.5, 'time': 162.9701166152954, 'batch_size': 2, 'Bert Model': 'bert-base-uncased', 'learning rate': 1e-10}, {'epochs': 3, 'train_loss': 0.3561845312942751, 'train_accuracy': 0.512109375, 'val_loss': 0.35295081650838256, 'val_accuracy': 0.5, 'time': 326.2726216316223, 'batch_size': 2, 'Bert Model': 'bert-base-uncased', 'learning rate': 1e-10}, {'epochs': 3, 'train_loss': 0.35549869418609886, 'train_accuracy': 0.510546875, 'val_loss': 0.352950648451224, 'val_accuracy': 0.5, 'time': 489.84071826934814, 'batch_size': 2, 'Bert Model': 'bert-base-uncased', 'learning rate': 1e-10}]\n"
     ]
    }
   ],
   "source": [
    "results4=[]\n",
    "for learning_rate in learning_rates:\n",
    "    for batch_size in batch_sizes:\n",
    "        for epoch in epochs:\n",
    "\n",
    "            model=BertClassifier(num_classes=num_classes)\n",
    "\n",
    "            result4,train_pred4,val_pred4=train(model,train_data,val_data,list_numeric_val,learning_rate,epoch,batch_size)\n",
    "            print(result4)\n",
    "            for i in result4:\n",
    "                results4.append(i)"
   ]
  },
  {
   "cell_type": "markdown",
   "id": "fae024cb",
   "metadata": {},
   "source": []
  },
  {
   "cell_type": "markdown",
   "id": "6547aa09",
   "metadata": {},
   "source": [
    "### Trying other learning rates"
   ]
  },
  {
   "cell_type": "code",
   "execution_count": 33,
   "id": "5e73de58",
   "metadata": {},
   "outputs": [],
   "source": [
    "epochs=[3]\n",
    "learning_rates= [5e-7, 1e-6, 5e-6, 1e-5, 5e-5]\n",
    "batch_sizes=[2]\n",
    "\n",
    "text_column_name='sentence'\n",
    "bert_model=bertModel(par=\"base\")\n",
    "\n",
    "#par_freeze=freezeBERT(freeze=True)\n",
    "num_classes=len(labels.keys())\n",
    "tokenizer=BertTokenizer.from_pretrained(bert_model)"
   ]
  },
  {
   "cell_type": "code",
   "execution_count": 34,
   "id": "a947cc6b",
   "metadata": {},
   "outputs": [
    {
     "name": "stderr",
     "output_type": "stream",
     "text": [
      "100%|██████████████████████████████████████████████████████████████████████████████| 1280/1280 [02:31<00:00,  8.46it/s]\n",
      "100%|██████████████████████████████████████████████████████████████████████████████| 1280/1280 [02:31<00:00,  8.45it/s]\n",
      "100%|██████████████████████████████████████████████████████████████████████████████| 1280/1280 [02:29<00:00,  8.58it/s]\n"
     ]
    },
    {
     "name": "stdout",
     "output_type": "stream",
     "text": [
      "[{'epochs': 3, 'train_loss': 0.3504509167629294, 'train_accuracy': 0.520703125, 'val_loss': 0.33834852641448376, 'val_accuracy': 0.6078125, 'time': 162.4041314125061, 'batch_size': 2, 'Bert Model': 'bert-base-uncased', 'learning rate': 5e-07}, {'epochs': 3, 'train_loss': 0.33937559348996726, 'train_accuracy': 0.5609375, 'val_loss': 0.32791216890327635, 'val_accuracy': 0.6640625, 'time': 324.87683510780334, 'batch_size': 2, 'Bert Model': 'bert-base-uncased', 'learning rate': 5e-07}, {'epochs': 3, 'train_loss': 0.32874196557095275, 'train_accuracy': 0.61328125, 'val_loss': 0.3129794577136636, 'val_accuracy': 0.68125, 'time': 484.84249114990234, 'batch_size': 2, 'Bert Model': 'bert-base-uncased', 'learning rate': 5e-07}]\n"
     ]
    },
    {
     "name": "stderr",
     "output_type": "stream",
     "text": [
      "100%|██████████████████████████████████████████████████████████████████████████████| 1280/1280 [02:28<00:00,  8.64it/s]\n",
      "100%|██████████████████████████████████████████████████████████████████████████████| 1280/1280 [02:28<00:00,  8.59it/s]\n",
      "100%|██████████████████████████████████████████████████████████████████████████████| 1280/1280 [02:29<00:00,  8.54it/s]\n"
     ]
    },
    {
     "name": "stdout",
     "output_type": "stream",
     "text": [
      "[{'epochs': 3, 'train_loss': 0.3444323980715126, 'train_accuracy': 0.55234375, 'val_loss': 0.3212388254702091, 'val_accuracy': 0.6109375, 'time': 158.99818873405457, 'batch_size': 2, 'Bert Model': 'bert-base-uncased', 'learning rate': 1e-06}, {'epochs': 3, 'train_loss': 0.3106466091820039, 'train_accuracy': 0.6796875, 'val_loss': 0.29141257046721875, 'val_accuracy': 0.7078125, 'time': 318.826598405838, 'batch_size': 2, 'Bert Model': 'bert-base-uncased', 'learning rate': 1e-06}, {'epochs': 3, 'train_loss': 0.2735415448434651, 'train_accuracy': 0.750390625, 'val_loss': 0.27358704789076, 'val_accuracy': 0.7515625, 'time': 479.51579570770264, 'batch_size': 2, 'Bert Model': 'bert-base-uncased', 'learning rate': 1e-06}]\n"
     ]
    },
    {
     "name": "stderr",
     "output_type": "stream",
     "text": [
      "100%|██████████████████████████████████████████████████████████████████████████████| 1280/1280 [02:27<00:00,  8.67it/s]\n",
      "100%|██████████████████████████████████████████████████████████████████████████████| 1280/1280 [02:27<00:00,  8.68it/s]\n",
      "100%|██████████████████████████████████████████████████████████████████████████████| 1280/1280 [02:28<00:00,  8.61it/s]\n"
     ]
    },
    {
     "name": "stdout",
     "output_type": "stream",
     "text": [
      "[{'epochs': 3, 'train_loss': 0.337118974031182, 'train_accuracy': 0.564453125, 'val_loss': 0.29265718564856796, 'val_accuracy': 0.7125, 'time': 158.71743321418762, 'batch_size': 2, 'Bert Model': 'bert-base-uncased', 'learning rate': 5e-06}, {'epochs': 3, 'train_loss': 0.25922884341853203, 'train_accuracy': 0.75703125, 'val_loss': 0.262734423414804, 'val_accuracy': 0.759375, 'time': 317.2974548339844, 'batch_size': 2, 'Bert Model': 'bert-base-uncased', 'learning rate': 5e-06}, {'epochs': 3, 'train_loss': 0.18191451760358177, 'train_accuracy': 0.848046875, 'val_loss': 0.2593387784610968, 'val_accuracy': 0.7609375, 'time': 476.8723211288452, 'batch_size': 2, 'Bert Model': 'bert-base-uncased', 'learning rate': 5e-06}]\n"
     ]
    },
    {
     "name": "stderr",
     "output_type": "stream",
     "text": [
      "100%|██████████████████████████████████████████████████████████████████████████████| 1280/1280 [02:29<00:00,  8.57it/s]\n",
      "100%|██████████████████████████████████████████████████████████████████████████████| 1280/1280 [02:29<00:00,  8.57it/s]\n",
      "100%|██████████████████████████████████████████████████████████████████████████████| 1280/1280 [02:29<00:00,  8.57it/s]\n"
     ]
    },
    {
     "name": "stdout",
     "output_type": "stream",
     "text": [
      "[{'epochs': 3, 'train_loss': 0.30420472531986886, 'train_accuracy': 0.645703125, 'val_loss': 0.26165915178135035, 'val_accuracy': 0.7546875, 'time': 160.08187699317932, 'batch_size': 2, 'Bert Model': 'bert-base-uncased', 'learning rate': 1e-05}, {'epochs': 3, 'train_loss': 0.21708983110729604, 'train_accuracy': 0.811328125, 'val_loss': 0.25823637706926095, 'val_accuracy': 0.7578125, 'time': 320.29696226119995, 'batch_size': 2, 'Bert Model': 'bert-base-uncased', 'learning rate': 1e-05}, {'epochs': 3, 'train_loss': 0.14150182208613843, 'train_accuracy': 0.891796875, 'val_loss': 0.2473139584530145, 'val_accuracy': 0.7921875, 'time': 480.5782356262207, 'batch_size': 2, 'Bert Model': 'bert-base-uncased', 'learning rate': 1e-05}]\n"
     ]
    },
    {
     "name": "stderr",
     "output_type": "stream",
     "text": [
      "100%|██████████████████████████████████████████████████████████████████████████████| 1280/1280 [02:28<00:00,  8.63it/s]\n",
      "100%|██████████████████████████████████████████████████████████████████████████████| 1280/1280 [02:29<00:00,  8.57it/s]\n",
      "100%|██████████████████████████████████████████████████████████████████████████████| 1280/1280 [02:27<00:00,  8.67it/s]\n"
     ]
    },
    {
     "name": "stdout",
     "output_type": "stream",
     "text": [
      "[{'epochs': 3, 'train_loss': 0.3463949704775587, 'train_accuracy': 0.51328125, 'val_loss': 0.3465735912322998, 'val_accuracy': 0.5171875, 'time': 159.07271194458008, 'batch_size': 2, 'Bert Model': 'bert-base-uncased', 'learning rate': 5e-05}, {'epochs': 3, 'train_loss': 0.34649508562870324, 'train_accuracy': 0.494921875, 'val_loss': 0.3465735912322998, 'val_accuracy': 0.5171875, 'time': 319.37539052963257, 'batch_size': 2, 'Bert Model': 'bert-base-uncased', 'learning rate': 5e-05}, {'epochs': 3, 'train_loss': 0.34659503852017226, 'train_accuracy': 0.495703125, 'val_loss': 0.3465735912322998, 'val_accuracy': 0.5171875, 'time': 477.8486375808716, 'batch_size': 2, 'Bert Model': 'bert-base-uncased', 'learning rate': 5e-05}]\n"
     ]
    }
   ],
   "source": [
    "results5=[]\n",
    "for learning_rate in learning_rates:\n",
    "    for batch_size in batch_sizes:\n",
    "        for epoch in epochs:\n",
    "\n",
    "            model=BertClassifier(num_classes=num_classes) \n",
    "\n",
    "            result5,train_pred5,val_pred5=train(model,train_data,val_data,list_numeric_val,learning_rate,epoch,batch_size)\n",
    "            print(result5)\n",
    "            for i in result5:\n",
    "                results5.append(i)"
   ]
  },
  {
   "cell_type": "code",
   "execution_count": 35,
   "id": "5fe062bf",
   "metadata": {},
   "outputs": [],
   "source": [
    "epochs=[3]\n",
    "learning_rates= [1e-6,3e-6,5e-6,7e-6,1e-5]\n",
    "batch_sizes=[2]\n",
    "\n",
    "text_column_name='sentence'\n",
    "bert_model=bertModel(par=\"base\")\n",
    "\n",
    "#par_freeze=freezeBERT(freeze=True)\n",
    "num_classes=len(labels.keys())\n",
    "tokenizer=BertTokenizer.from_pretrained(bert_model)"
   ]
  },
  {
   "cell_type": "code",
   "execution_count": 36,
   "id": "058c509b",
   "metadata": {},
   "outputs": [
    {
     "name": "stderr",
     "output_type": "stream",
     "text": [
      "100%|██████████████████████████████████████████████████████████████████████████████| 1280/1280 [02:27<00:00,  8.69it/s]\n",
      "100%|██████████████████████████████████████████████████████████████████████████████| 1280/1280 [02:33<00:00,  8.35it/s]\n",
      "100%|██████████████████████████████████████████████████████████████████████████████| 1280/1280 [02:39<00:00,  8.01it/s]\n"
     ]
    },
    {
     "name": "stdout",
     "output_type": "stream",
     "text": [
      "[{'epochs': 3, 'train_loss': 0.34862988595850763, 'train_accuracy': 0.510546875, 'val_loss': 0.34641599711030724, 'val_accuracy': 0.53125, 'time': 158.29272603988647, 'batch_size': 2, 'Bert Model': 'bert-base-uncased', 'learning rate': 1e-06}, {'epochs': 3, 'train_loss': 0.33830773789668456, 'train_accuracy': 0.581640625, 'val_loss': 0.3158271082676947, 'val_accuracy': 0.675, 'time': 323.50567650794983, 'batch_size': 2, 'Bert Model': 'bert-base-uncased', 'learning rate': 1e-06}, {'epochs': 3, 'train_loss': 0.3039827769738622, 'train_accuracy': 0.69609375, 'val_loss': 0.2791572405491024, 'val_accuracy': 0.7328125, 'time': 494.6550748348236, 'batch_size': 2, 'Bert Model': 'bert-base-uncased', 'learning rate': 1e-06}]\n"
     ]
    },
    {
     "name": "stderr",
     "output_type": "stream",
     "text": [
      "100%|██████████████████████████████████████████████████████████████████████████████| 1280/1280 [02:31<00:00,  8.47it/s]\n",
      "100%|██████████████████████████████████████████████████████████████████████████████| 1280/1280 [02:30<00:00,  8.50it/s]\n",
      "100%|██████████████████████████████████████████████████████████████████████████████| 1280/1280 [02:29<00:00,  8.54it/s]\n"
     ]
    },
    {
     "name": "stdout",
     "output_type": "stream",
     "text": [
      "[{'epochs': 3, 'train_loss': 0.34740173619939013, 'train_accuracy': 0.524609375, 'val_loss': 0.3461290161125362, 'val_accuracy': 0.5390625, 'time': 162.06539940834045, 'batch_size': 2, 'Bert Model': 'bert-base-uncased', 'learning rate': 3e-06}, {'epochs': 3, 'train_loss': 0.29304584735655226, 'train_accuracy': 0.703515625, 'val_loss': 0.25953893417026846, 'val_accuracy': 0.740625, 'time': 323.7966585159302, 'batch_size': 2, 'Bert Model': 'bert-base-uncased', 'learning rate': 3e-06}, {'epochs': 3, 'train_loss': 0.21708983809076016, 'train_accuracy': 0.8125, 'val_loss': 0.24633688568137585, 'val_accuracy': 0.765625, 'time': 484.7459888458252, 'batch_size': 2, 'Bert Model': 'bert-base-uncased', 'learning rate': 3e-06}]\n"
     ]
    },
    {
     "name": "stderr",
     "output_type": "stream",
     "text": [
      "100%|██████████████████████████████████████████████████████████████████████████████| 1280/1280 [02:28<00:00,  8.60it/s]\n",
      "100%|██████████████████████████████████████████████████████████████████████████████| 1280/1280 [02:30<00:00,  8.52it/s]\n",
      "100%|██████████████████████████████████████████████████████████████████████████████| 1280/1280 [02:36<00:00,  8.17it/s]\n"
     ]
    },
    {
     "name": "stdout",
     "output_type": "stream",
     "text": [
      "[{'epochs': 3, 'train_loss': 0.31917442079866304, 'train_accuracy': 0.61796875, 'val_loss': 0.2651813723961823, 'val_accuracy': 0.7609375, 'time': 159.88157153129578, 'batch_size': 2, 'Bert Model': 'bert-base-uncased', 'learning rate': 5e-06}, {'epochs': 3, 'train_loss': 0.24276367982383817, 'train_accuracy': 0.772265625, 'val_loss': 0.24254986505256965, 'val_accuracy': 0.771875, 'time': 321.15917325019836, 'batch_size': 2, 'Bert Model': 'bert-base-uncased', 'learning rate': 5e-06}, {'epochs': 3, 'train_loss': 0.1655680381831189, 'train_accuracy': 0.870703125, 'val_loss': 0.2576729691412766, 'val_accuracy': 0.7734375, 'time': 489.3922998905182, 'batch_size': 2, 'Bert Model': 'bert-base-uncased', 'learning rate': 5e-06}]\n"
     ]
    },
    {
     "name": "stderr",
     "output_type": "stream",
     "text": [
      "100%|██████████████████████████████████████████████████████████████████████████████| 1280/1280 [02:36<00:00,  8.17it/s]\n",
      "100%|██████████████████████████████████████████████████████████████████████████████| 1280/1280 [02:33<00:00,  8.33it/s]\n",
      "100%|██████████████████████████████████████████████████████████████████████████████| 1280/1280 [02:36<00:00,  8.17it/s]\n"
     ]
    },
    {
     "name": "stdout",
     "output_type": "stream",
     "text": [
      "[{'epochs': 3, 'train_loss': 0.3133334439393366, 'train_accuracy': 0.62734375, 'val_loss': 0.2518258011899889, 'val_accuracy': 0.7515625, 'time': 167.71313643455505, 'batch_size': 2, 'Bert Model': 'bert-base-uncased', 'learning rate': 7e-06}, {'epochs': 3, 'train_loss': 0.22115508668648545, 'train_accuracy': 0.80234375, 'val_loss': 0.23993483550148084, 'val_accuracy': 0.7953125, 'time': 332.87905526161194, 'batch_size': 2, 'Bert Model': 'bert-base-uncased', 'learning rate': 7e-06}, {'epochs': 3, 'train_loss': 0.13044643421708316, 'train_accuracy': 0.9, 'val_loss': 0.25325579919153823, 'val_accuracy': 0.7921875, 'time': 500.5561716556549, 'batch_size': 2, 'Bert Model': 'bert-base-uncased', 'learning rate': 7e-06}]\n"
     ]
    },
    {
     "name": "stderr",
     "output_type": "stream",
     "text": [
      "100%|██████████████████████████████████████████████████████████████████████████████| 1280/1280 [02:31<00:00,  8.45it/s]\n",
      "100%|██████████████████████████████████████████████████████████████████████████████| 1280/1280 [02:30<00:00,  8.48it/s]\n",
      "100%|██████████████████████████████████████████████████████████████████████████████| 1280/1280 [02:31<00:00,  8.46it/s]\n"
     ]
    },
    {
     "name": "stdout",
     "output_type": "stream",
     "text": [
      "[{'epochs': 3, 'train_loss': 0.29433799650578296, 'train_accuracy': 0.68359375, 'val_loss': 0.24080191844841464, 'val_accuracy': 0.759375, 'time': 162.5092694759369, 'batch_size': 2, 'Bert Model': 'bert-base-uncased', 'learning rate': 1e-05}, {'epochs': 3, 'train_loss': 0.18159698413146544, 'train_accuracy': 0.844140625, 'val_loss': 0.2449976580683142, 'val_accuracy': 0.775, 'time': 324.6059339046478, 'batch_size': 2, 'Bert Model': 'bert-base-uncased', 'learning rate': 1e-05}, {'epochs': 3, 'train_loss': 0.08152909456839552, 'train_accuracy': 0.9390625, 'val_loss': 0.37035398516891294, 'val_accuracy': 0.7484375, 'time': 487.4820206165314, 'batch_size': 2, 'Bert Model': 'bert-base-uncased', 'learning rate': 1e-05}]\n"
     ]
    }
   ],
   "source": [
    "results6=[]\n",
    "for learning_rate in learning_rates:\n",
    "    for batch_size in batch_sizes:\n",
    "        for epoch in epochs:\n",
    "\n",
    "            model=BertClassifier(num_classes=num_classes) \n",
    "\n",
    "            result6,train_pred6,val_pred6=train(model,train_data,val_data,list_numeric_val,learning_rate,epoch,batch_size)\n",
    "            print(result6)\n",
    "            for i in result6:\n",
    "                results6.append(i)"
   ]
  },
  {
   "cell_type": "markdown",
   "id": "e24d5c7b",
   "metadata": {},
   "source": [
    "### Increasing the batch size (not good)"
   ]
  },
  {
   "cell_type": "code",
   "execution_count": 37,
   "id": "e9409e95",
   "metadata": {},
   "outputs": [],
   "source": [
    "epochs=[3]\n",
    "learning_rates= [6e-6,7e-6,8e-6,9e-6]\n",
    "batch_sizes=[2]\n",
    "\n",
    "text_column_name='sentence'\n",
    "bert_model=bertModel(par=\"base\")\n",
    "\n",
    "#par_freeze=freezeBERT(freeze=True)\n",
    "num_classes=len(labels.keys())\n",
    "tokenizer=BertTokenizer.from_pretrained(bert_model)"
   ]
  },
  {
   "cell_type": "code",
   "execution_count": 38,
   "id": "aeb6646b",
   "metadata": {},
   "outputs": [
    {
     "name": "stderr",
     "output_type": "stream",
     "text": [
      "100%|██████████████████████████████████████████████████████████████████████████████| 1280/1280 [02:28<00:00,  8.61it/s]\n",
      "100%|██████████████████████████████████████████████████████████████████████████████| 1280/1280 [02:29<00:00,  8.56it/s]\n",
      "100%|██████████████████████████████████████████████████████████████████████████████| 1280/1280 [02:29<00:00,  8.55it/s]\n"
     ]
    },
    {
     "name": "stdout",
     "output_type": "stream",
     "text": [
      "[{'epochs': 3, 'train_loss': 0.30532330320274925, 'train_accuracy': 0.6640625, 'val_loss': 0.2878689147066325, 'val_accuracy': 0.70625, 'time': 159.71227622032166, 'batch_size': 2, 'Bert Model': 'bert-base-uncased', 'learning rate': 6e-06}, {'epochs': 3, 'train_loss': 0.22204455718310784, 'train_accuracy': 0.805859375, 'val_loss': 0.23529160075704567, 'val_accuracy': 0.7859375, 'time': 320.40305042266846, 'batch_size': 2, 'Bert Model': 'bert-base-uncased', 'learning rate': 6e-06}, {'epochs': 3, 'train_loss': 0.15410287754202728, 'train_accuracy': 0.880078125, 'val_loss': 0.2529551622341387, 'val_accuracy': 0.78125, 'time': 481.70871090888977, 'batch_size': 2, 'Bert Model': 'bert-base-uncased', 'learning rate': 6e-06}]\n"
     ]
    },
    {
     "name": "stderr",
     "output_type": "stream",
     "text": [
      "100%|██████████████████████████████████████████████████████████████████████████████| 1280/1280 [02:39<00:00,  8.04it/s]\n",
      "100%|██████████████████████████████████████████████████████████████████████████████| 1280/1280 [02:32<00:00,  8.38it/s]\n",
      "100%|██████████████████████████████████████████████████████████████████████████████| 1280/1280 [02:29<00:00,  8.56it/s]\n"
     ]
    },
    {
     "name": "stdout",
     "output_type": "stream",
     "text": [
      "[{'epochs': 3, 'train_loss': 0.312723766072304, 'train_accuracy': 0.628515625, 'val_loss': 0.26518464607652276, 'val_accuracy': 0.740625, 'time': 170.68180465698242, 'batch_size': 2, 'Bert Model': 'bert-base-uncased', 'learning rate': 7e-06}, {'epochs': 3, 'train_loss': 0.21773107614426407, 'train_accuracy': 0.812890625, 'val_loss': 0.23162392315571195, 'val_accuracy': 0.76875, 'time': 334.5044753551483, 'batch_size': 2, 'Bert Model': 'bert-base-uncased', 'learning rate': 7e-06}, {'epochs': 3, 'train_loss': 0.13795636166396436, 'train_accuracy': 0.894140625, 'val_loss': 0.2447713284404017, 'val_accuracy': 0.7890625, 'time': 494.9647295475006, 'batch_size': 2, 'Bert Model': 'bert-base-uncased', 'learning rate': 7e-06}]\n"
     ]
    },
    {
     "name": "stderr",
     "output_type": "stream",
     "text": [
      "100%|██████████████████████████████████████████████████████████████████████████████| 1280/1280 [02:30<00:00,  8.51it/s]\n",
      "100%|██████████████████████████████████████████████████████████████████████████████| 1280/1280 [02:29<00:00,  8.56it/s]\n",
      "100%|██████████████████████████████████████████████████████████████████████████████| 1280/1280 [02:29<00:00,  8.58it/s]\n"
     ]
    },
    {
     "name": "stdout",
     "output_type": "stream",
     "text": [
      "[{'epochs': 3, 'train_loss': 0.3031369754782645, 'train_accuracy': 0.67109375, 'val_loss': 0.2457669738563709, 'val_accuracy': 0.76875, 'time': 161.38507533073425, 'batch_size': 2, 'Bert Model': 'bert-base-uncased', 'learning rate': 8e-06}, {'epochs': 3, 'train_loss': 0.19631319439795333, 'train_accuracy': 0.833203125, 'val_loss': 0.24309036583872512, 'val_accuracy': 0.7828125, 'time': 321.84955072402954, 'batch_size': 2, 'Bert Model': 'bert-base-uncased', 'learning rate': 8e-06}, {'epochs': 3, 'train_loss': 0.11159111788874725, 'train_accuracy': 0.91640625, 'val_loss': 0.26457753121067074, 'val_accuracy': 0.7796875, 'time': 482.1104471683502, 'batch_size': 2, 'Bert Model': 'bert-base-uncased', 'learning rate': 8e-06}]\n"
     ]
    },
    {
     "name": "stderr",
     "output_type": "stream",
     "text": [
      "100%|██████████████████████████████████████████████████████████████████████████████| 1280/1280 [02:32<00:00,  8.39it/s]\n",
      "100%|██████████████████████████████████████████████████████████████████████████████| 1280/1280 [02:31<00:00,  8.47it/s]\n",
      "100%|██████████████████████████████████████████████████████████████████████████████| 1280/1280 [02:29<00:00,  8.54it/s]\n"
     ]
    },
    {
     "name": "stdout",
     "output_type": "stream",
     "text": [
      "[{'epochs': 3, 'train_loss': 0.2952708674361929, 'train_accuracy': 0.6828125, 'val_loss': 0.2632079681032337, 'val_accuracy': 0.7484375, 'time': 163.5809416770935, 'batch_size': 2, 'Bert Model': 'bert-base-uncased', 'learning rate': 9e-06}, {'epochs': 3, 'train_loss': 0.20033328787249047, 'train_accuracy': 0.828515625, 'val_loss': 0.2386647763691144, 'val_accuracy': 0.771875, 'time': 325.76356387138367, 'batch_size': 2, 'Bert Model': 'bert-base-uncased', 'learning rate': 9e-06}, {'epochs': 3, 'train_loss': 0.10705749093540362, 'train_accuracy': 0.924609375, 'val_loss': 0.29140530235890766, 'val_accuracy': 0.775, 'time': 486.8508460521698, 'batch_size': 2, 'Bert Model': 'bert-base-uncased', 'learning rate': 9e-06}]\n"
     ]
    }
   ],
   "source": [
    "results7=[]\n",
    "for learning_rate in learning_rates:\n",
    "    for batch_size in batch_sizes:\n",
    "        for epoch in epochs:\n",
    "\n",
    "            model=BertClassifier(num_classes=num_classes) \n",
    "\n",
    "            result7,train_pred7,val_pred7=train(model,train_data,val_data,list_numeric_val,learning_rate,epoch,batch_size)\n",
    "            print(result7)\n",
    "            for i in result7:\n",
    "                results7.append(i)"
   ]
  },
  {
   "cell_type": "code",
   "execution_count": 44,
   "id": "d5a2ab5d",
   "metadata": {},
   "outputs": [],
   "source": [
    "epochs=[3]\n",
    "learning_rates= [1e-6]\n",
    "batch_sizes=[2, 4, 8, 16]\n",
    "\n",
    "text_column_name='sentence'\n",
    "bert_model=bertModel(par=\"base\")\n",
    "\n",
    "#par_freeze=freezeBERT(freeze=True)\n",
    "num_classes=len(labels.keys())\n",
    "tokenizer=BertTokenizer.from_pretrained(bert_model)"
   ]
  },
  {
   "cell_type": "code",
   "execution_count": 45,
   "id": "a4a7eb1d",
   "metadata": {},
   "outputs": [
    {
     "name": "stderr",
     "output_type": "stream",
     "text": [
      "100%|██████████████████████████████████████████████████████████████████████████████| 1280/1280 [02:45<00:00,  7.74it/s]\n",
      "100%|██████████████████████████████████████████████████████████████████████████████| 1280/1280 [02:44<00:00,  7.77it/s]\n",
      "100%|██████████████████████████████████████████████████████████████████████████████| 1280/1280 [02:41<00:00,  7.95it/s]\n"
     ]
    },
    {
     "name": "stdout",
     "output_type": "stream",
     "text": [
      "[{'epochs': 3, 'train_loss': 0.34953327137045564, 'train_accuracy': 0.518359375, 'val_loss': 0.33305209297686816, 'val_accuracy': 0.6390625, 'time': 176.87418365478516, 'batch_size': 2, 'Bert Model': 'bert-base-uncased', 'learning rate': 1e-06}, {'epochs': 3, 'train_loss': 0.3252722107397858, 'train_accuracy': 0.633984375, 'val_loss': 0.3021247156430036, 'val_accuracy': 0.6828125, 'time': 353.0025591850281, 'batch_size': 2, 'Bert Model': 'bert-base-uncased', 'learning rate': 1e-06}, {'epochs': 3, 'train_loss': 0.28848386952304284, 'train_accuracy': 0.72421875, 'val_loss': 0.26937234539072963, 'val_accuracy': 0.746875, 'time': 525.374990940094, 'batch_size': 2, 'Bert Model': 'bert-base-uncased', 'learning rate': 1e-06}]\n"
     ]
    },
    {
     "name": "stderr",
     "output_type": "stream",
     "text": [
      "100%|████████████████████████████████████████████████████████████████████████████████| 640/640 [02:19<00:00,  4.59it/s]\n",
      "100%|████████████████████████████████████████████████████████████████████████████████| 640/640 [02:13<00:00,  4.79it/s]\n",
      "100%|████████████████████████████████████████████████████████████████████████████████| 640/640 [02:19<00:00,  4.60it/s]\n"
     ]
    },
    {
     "name": "stdout",
     "output_type": "stream",
     "text": [
      "[{'epochs': 3, 'train_loss': 0.17347911037504674, 'train_accuracy': 0.511328125, 'val_loss': 0.17237894656136632, 'val_accuracy': 0.5984375, 'time': 150.4102783203125, 'batch_size': 4, 'Bert Model': 'bert-base-uncased', 'learning rate': 1e-06}, {'epochs': 3, 'train_loss': 0.17155714542604983, 'train_accuracy': 0.551171875, 'val_loss': 0.16702023856341838, 'val_accuracy': 0.659375, 'time': 295.0102345943451, 'batch_size': 4, 'Bert Model': 'bert-base-uncased', 'learning rate': 1e-06}, {'epochs': 3, 'train_loss': 0.16493019059998915, 'train_accuracy': 0.6046875, 'val_loss': 0.15483689974062145, 'val_accuracy': 0.68125, 'time': 445.2767114639282, 'batch_size': 4, 'Bert Model': 'bert-base-uncased', 'learning rate': 1e-06}]\n"
     ]
    },
    {
     "name": "stderr",
     "output_type": "stream",
     "text": [
      "100%|████████████████████████████████████████████████████████████████████████████████| 320/320 [05:34<00:00,  1.04s/it]\n",
      "100%|████████████████████████████████████████████████████████████████████████████████| 320/320 [05:58<00:00,  1.12s/it]\n",
      "100%|████████████████████████████████████████████████████████████████████████████████| 320/320 [05:16<00:00,  1.01it/s]\n"
     ]
    },
    {
     "name": "stdout",
     "output_type": "stream",
     "text": [
      "[{'epochs': 3, 'train_loss': 0.08681937872897834, 'train_accuracy': 0.53125, 'val_loss': 0.08492873338982462, 'val_accuracy': 0.6546875, 'time': 372.73528695106506, 'batch_size': 8, 'Bert Model': 'bert-base-uncased', 'learning rate': 1e-06}, {'epochs': 3, 'train_loss': 0.08419409694615751, 'train_accuracy': 0.578125, 'val_loss': 0.08180063292384147, 'val_accuracy': 0.675, 'time': 744.6513798236847, 'batch_size': 8, 'Bert Model': 'bert-base-uncased', 'learning rate': 1e-06}, {'epochs': 3, 'train_loss': 0.08039288838626817, 'train_accuracy': 0.653515625, 'val_loss': 0.0770244739484042, 'val_accuracy': 0.6859375, 'time': 1073.2067031860352, 'batch_size': 8, 'Bert Model': 'bert-base-uncased', 'learning rate': 1e-06}]\n"
     ]
    },
    {
     "name": "stderr",
     "output_type": "stream",
     "text": [
      "100%|████████████████████████████████████████████████████████████████████████████████| 160/160 [16:19<00:00,  6.12s/it]\n",
      "100%|████████████████████████████████████████████████████████████████████████████████| 160/160 [15:03<00:00,  5.65s/it]\n",
      "100%|████████████████████████████████████████████████████████████████████████████████| 160/160 [13:01<00:00,  4.89s/it]\n"
     ]
    },
    {
     "name": "stdout",
     "output_type": "stream",
     "text": [
      "[{'epochs': 3, 'train_loss': 0.043595953821204604, 'train_accuracy': 0.496875, 'val_loss': 0.04352160468697548, 'val_accuracy': 0.5078125, 'time': 1074.493782043457, 'batch_size': 16, 'Bert Model': 'bert-base-uncased', 'learning rate': 1e-06}, {'epochs': 3, 'train_loss': 0.04331130248028785, 'train_accuracy': 0.506640625, 'val_loss': 0.0435061726719141, 'val_accuracy': 0.5140625, 'time': 2070.3333060741425, 'batch_size': 16, 'Bert Model': 'bert-base-uncased', 'learning rate': 1e-06}, {'epochs': 3, 'train_loss': 0.042561634257435796, 'train_accuracy': 0.576953125, 'val_loss': 0.0424626462161541, 'val_accuracy': 0.6125, 'time': 2934.324235200882, 'batch_size': 16, 'Bert Model': 'bert-base-uncased', 'learning rate': 1e-06}]\n"
     ]
    }
   ],
   "source": [
    "results6=[]\n",
    "for learning_rate in learning_rates:\n",
    "    for batch_size in batch_sizes:\n",
    "        for epoch in epochs:\n",
    "            \n",
    "            model=BertClassifier(num_classes=num_classes)\n",
    "\n",
    "            result6,train_pred6,val_pred6=train(model,train_data,val_data,list_numeric_val,learning_rate,epoch,batch_size)\n",
    "            print(result6)\n",
    "            for i in result6:\n",
    "                results6.append(i)"
   ]
  },
  {
   "cell_type": "markdown",
   "id": "00d9969e",
   "metadata": {},
   "source": [
    "**Good Approaches:**\n",
    "\n",
    "- not to freeze model weights\n",
    "\n",
    "- to increase epoch\n",
    "\n",
    "- learning rate: $6.5x10^{-6}$\n"
   ]
  },
  {
   "cell_type": "markdown",
   "id": "449ed5e1",
   "metadata": {},
   "source": [
    "### Working with the Large BERT Model (not good approach)"
   ]
  },
  {
   "cell_type": "markdown",
   "id": "7e41ae25",
   "metadata": {},
   "source": [
    "After finding a good approaches for BERT base model, I tried with the large model. I worked with the same number of epochs to see the difference between previous best model."
   ]
  },
  {
   "cell_type": "code",
   "execution_count": 33,
   "id": "297641b2",
   "metadata": {},
   "outputs": [],
   "source": [
    "epochs=[3]\n",
    "learning_rates= [6.5e-6]\n",
    "batch_sizes=[2]\n",
    "\n",
    "text_column_name='sentence'\n",
    "bert_model=bertModel(par=\"large\")\n",
    "\n",
    "#par_freeze=freezeBERT(freeze=True)\n",
    "num_classes=len(labels.keys())\n",
    "tokenizer=BertTokenizer.from_pretrained(bert_model)"
   ]
  },
  {
   "cell_type": "code",
   "execution_count": 34,
   "id": "6ce96724",
   "metadata": {},
   "outputs": [
    {
     "name": "stderr",
     "output_type": "stream",
     "text": [
      "100%|██████████████████████████████████████████████████████████████████████████████| 1280/1280 [07:47<00:00,  2.74it/s]\n",
      "100%|██████████████████████████████████████████████████████████████████████████████| 1280/1280 [07:47<00:00,  2.74it/s]\n",
      "100%|██████████████████████████████████████████████████████████████████████████████| 1280/1280 [07:48<00:00,  2.73it/s]\n"
     ]
    },
    {
     "name": "stdout",
     "output_type": "stream",
     "text": [
      "[{'epochs': 3, 'train_loss': 0.3444576347130351, 'train_accuracy': 0.512109375, 'val_loss': 0.3465735912322998, 'val_accuracy': 0.5171875, 'time': 504.00487875938416, 'batch_size': 2, 'Bert Model': 'google-bert/bert-large-uncased', 'learning rate': 6.5e-06}, {'epochs': 3, 'train_loss': 0.349205525952857, 'train_accuracy': 0.490234375, 'val_loss': 0.3465735912322998, 'val_accuracy': 0.5171875, 'time': 1006.8421905040741, 'batch_size': 2, 'Bert Model': 'google-bert/bert-large-uncased', 'learning rate': 6.5e-06}, {'epochs': 3, 'train_loss': 0.34686175829265264, 'train_accuracy': 0.496484375, 'val_loss': 0.3465735912322998, 'val_accuracy': 0.5171875, 'time': 1511.9440269470215, 'batch_size': 2, 'Bert Model': 'google-bert/bert-large-uncased', 'learning rate': 6.5e-06}]\n"
     ]
    }
   ],
   "source": [
    "results8=[]\n",
    "for learning_rate in learning_rates:\n",
    "    for batch_size in batch_sizes:\n",
    "        for epoch in epochs:\n",
    "\n",
    "            model=BertClassifier(num_classes=num_classes)\n",
    "\n",
    "            result8,train_pred8,val_pred8=train(model,train_data,val_data,list_numeric_val,learning_rate,epoch,batch_size)\n",
    "            print(result8)\n",
    "            for i in result8:\n",
    "                results8.append(i)"
   ]
  },
  {
   "cell_type": "markdown",
   "id": "3cf6649e",
   "metadata": {},
   "source": [
    "As it can be seen above, the large language model didn't work well. Because of that, I tried other ones with the base model."
   ]
  },
  {
   "cell_type": "markdown",
   "id": "36120c12",
   "metadata": {},
   "source": [
    "### Finding the Best Epoch Number\n",
    "\n",
    "- **model:** BERT base\n",
    "\n",
    "- **epochs:** 10\n",
    "\n",
    "- **learning rate:** $6.5x10^{-6}$\n",
    "\n",
    "- **batch size:** 2"
   ]
  },
  {
   "cell_type": "code",
   "execution_count": 226,
   "id": "490892d3",
   "metadata": {},
   "outputs": [],
   "source": [
    "text_column_name='sentence'\n",
    "bert_model=bertModel(par=\"base\")\n",
    "\n",
    "num_classes=len(labels.keys())\n",
    "tokenizer=BertTokenizer.from_pretrained(bert_model)"
   ]
  },
  {
   "cell_type": "code",
   "execution_count": 227,
   "id": "10461ddc",
   "metadata": {},
   "outputs": [],
   "source": [
    "train_data=Dataset(train_df2,text_column_name)\n",
    "val_data=Dataset(val_df2,text_column_name)\n",
    "\n",
    "list_numeric_train=list(train_df2['label'].apply(lambda x: labels[x]))\n",
    "list_numeric_val=list(val_df2['label'].apply(lambda x: labels[x]))"
   ]
  },
  {
   "cell_type": "code",
   "execution_count": 229,
   "id": "74d7aefb",
   "metadata": {},
   "outputs": [],
   "source": [
    "model=BertClassifier(num_classes=num_classes)"
   ]
  },
  {
   "cell_type": "code",
   "execution_count": 231,
   "id": "69d09280",
   "metadata": {},
   "outputs": [
    {
     "name": "stderr",
     "output_type": "stream",
     "text": [
      "100%|██████████████████████████████████████████████████████████████████████████████| 1280/1280 [02:27<00:00,  8.67it/s]\n",
      "100%|██████████████████████████████████████████████████████████████████████████████| 1280/1280 [02:30<00:00,  8.52it/s]\n",
      "100%|██████████████████████████████████████████████████████████████████████████████| 1280/1280 [02:30<00:00,  8.48it/s]\n",
      "100%|██████████████████████████████████████████████████████████████████████████████| 1280/1280 [02:32<00:00,  8.40it/s]\n",
      "100%|██████████████████████████████████████████████████████████████████████████████| 1280/1280 [02:30<00:00,  8.51it/s]\n",
      "100%|██████████████████████████████████████████████████████████████████████████████| 1280/1280 [02:30<00:00,  8.51it/s]\n",
      "100%|██████████████████████████████████████████████████████████████████████████████| 1280/1280 [02:30<00:00,  8.50it/s]\n",
      "100%|██████████████████████████████████████████████████████████████████████████████| 1280/1280 [02:30<00:00,  8.51it/s]\n",
      "100%|██████████████████████████████████████████████████████████████████████████████| 1280/1280 [02:30<00:00,  8.48it/s]\n",
      "100%|██████████████████████████████████████████████████████████████████████████████| 1280/1280 [02:31<00:00,  8.45it/s]\n"
     ]
    }
   ],
   "source": [
    "result_first,train_pred_first,val_pred_first=train(model,\n",
    "                                                   train_data,\n",
    "                                                   val_data,\n",
    "                                                   list_numeric_val,\n",
    "                                                   learning_rate=6.5e-6,\n",
    "                                                   epochs=10,\n",
    "                                                   batch_size=2)"
   ]
  },
  {
   "cell_type": "code",
   "execution_count": 232,
   "id": "49ffd150",
   "metadata": {},
   "outputs": [
    {
     "data": {
      "text/html": [
       "<div>\n",
       "<style scoped>\n",
       "    .dataframe tbody tr th:only-of-type {\n",
       "        vertical-align: middle;\n",
       "    }\n",
       "\n",
       "    .dataframe tbody tr th {\n",
       "        vertical-align: top;\n",
       "    }\n",
       "\n",
       "    .dataframe thead th {\n",
       "        text-align: right;\n",
       "    }\n",
       "</style>\n",
       "<table border=\"1\" class=\"dataframe\">\n",
       "  <thead>\n",
       "    <tr style=\"text-align: right;\">\n",
       "      <th></th>\n",
       "      <th>epochs</th>\n",
       "      <th>train_loss</th>\n",
       "      <th>train_accuracy</th>\n",
       "      <th>val_loss</th>\n",
       "      <th>val_accuracy</th>\n",
       "      <th>time</th>\n",
       "      <th>batch_size</th>\n",
       "      <th>Bert Model</th>\n",
       "      <th>learning rate</th>\n",
       "    </tr>\n",
       "  </thead>\n",
       "  <tbody>\n",
       "    <tr>\n",
       "      <th>0</th>\n",
       "      <td>10</td>\n",
       "      <td>0.300691</td>\n",
       "      <td>0.677734</td>\n",
       "      <td>0.256952</td>\n",
       "      <td>0.748437</td>\n",
       "      <td>158.751099</td>\n",
       "      <td>2</td>\n",
       "      <td>bert-base-uncased</td>\n",
       "      <td>0.000006</td>\n",
       "    </tr>\n",
       "    <tr>\n",
       "      <th>1</th>\n",
       "      <td>10</td>\n",
       "      <td>0.222049</td>\n",
       "      <td>0.801172</td>\n",
       "      <td>0.244282</td>\n",
       "      <td>0.775000</td>\n",
       "      <td>320.135070</td>\n",
       "      <td>2</td>\n",
       "      <td>bert-base-uncased</td>\n",
       "      <td>0.000006</td>\n",
       "    </tr>\n",
       "    <tr>\n",
       "      <th>2</th>\n",
       "      <td>10</td>\n",
       "      <td>0.149495</td>\n",
       "      <td>0.883984</td>\n",
       "      <td>0.256098</td>\n",
       "      <td>0.775000</td>\n",
       "      <td>482.032252</td>\n",
       "      <td>2</td>\n",
       "      <td>bert-base-uncased</td>\n",
       "      <td>0.000006</td>\n",
       "    </tr>\n",
       "    <tr>\n",
       "      <th>3</th>\n",
       "      <td>10</td>\n",
       "      <td>0.087348</td>\n",
       "      <td>0.940625</td>\n",
       "      <td>0.304052</td>\n",
       "      <td>0.787500</td>\n",
       "      <td>645.385938</td>\n",
       "      <td>2</td>\n",
       "      <td>bert-base-uncased</td>\n",
       "      <td>0.000006</td>\n",
       "    </tr>\n",
       "    <tr>\n",
       "      <th>4</th>\n",
       "      <td>10</td>\n",
       "      <td>0.050107</td>\n",
       "      <td>0.970313</td>\n",
       "      <td>0.333619</td>\n",
       "      <td>0.787500</td>\n",
       "      <td>806.827160</td>\n",
       "      <td>2</td>\n",
       "      <td>bert-base-uncased</td>\n",
       "      <td>0.000006</td>\n",
       "    </tr>\n",
       "    <tr>\n",
       "      <th>5</th>\n",
       "      <td>10</td>\n",
       "      <td>0.030641</td>\n",
       "      <td>0.982422</td>\n",
       "      <td>0.399774</td>\n",
       "      <td>0.784375</td>\n",
       "      <td>968.277251</td>\n",
       "      <td>2</td>\n",
       "      <td>bert-base-uncased</td>\n",
       "      <td>0.000006</td>\n",
       "    </tr>\n",
       "    <tr>\n",
       "      <th>6</th>\n",
       "      <td>10</td>\n",
       "      <td>0.022328</td>\n",
       "      <td>0.987891</td>\n",
       "      <td>0.493775</td>\n",
       "      <td>0.782813</td>\n",
       "      <td>1130.125082</td>\n",
       "      <td>2</td>\n",
       "      <td>bert-base-uncased</td>\n",
       "      <td>0.000006</td>\n",
       "    </tr>\n",
       "    <tr>\n",
       "      <th>7</th>\n",
       "      <td>10</td>\n",
       "      <td>0.019302</td>\n",
       "      <td>0.987891</td>\n",
       "      <td>0.470476</td>\n",
       "      <td>0.768750</td>\n",
       "      <td>1291.584730</td>\n",
       "      <td>2</td>\n",
       "      <td>bert-base-uncased</td>\n",
       "      <td>0.000006</td>\n",
       "    </tr>\n",
       "    <tr>\n",
       "      <th>8</th>\n",
       "      <td>10</td>\n",
       "      <td>0.009378</td>\n",
       "      <td>0.994531</td>\n",
       "      <td>0.509134</td>\n",
       "      <td>0.770312</td>\n",
       "      <td>1453.542128</td>\n",
       "      <td>2</td>\n",
       "      <td>bert-base-uncased</td>\n",
       "      <td>0.000006</td>\n",
       "    </tr>\n",
       "    <tr>\n",
       "      <th>9</th>\n",
       "      <td>10</td>\n",
       "      <td>0.010233</td>\n",
       "      <td>0.993359</td>\n",
       "      <td>0.537083</td>\n",
       "      <td>0.784375</td>\n",
       "      <td>1615.989071</td>\n",
       "      <td>2</td>\n",
       "      <td>bert-base-uncased</td>\n",
       "      <td>0.000006</td>\n",
       "    </tr>\n",
       "  </tbody>\n",
       "</table>\n",
       "</div>"
      ],
      "text/plain": [
       "   epochs  train_loss  train_accuracy  val_loss  val_accuracy         time  \\\n",
       "0      10    0.300691        0.677734  0.256952      0.748437   158.751099   \n",
       "1      10    0.222049        0.801172  0.244282      0.775000   320.135070   \n",
       "2      10    0.149495        0.883984  0.256098      0.775000   482.032252   \n",
       "3      10    0.087348        0.940625  0.304052      0.787500   645.385938   \n",
       "4      10    0.050107        0.970313  0.333619      0.787500   806.827160   \n",
       "5      10    0.030641        0.982422  0.399774      0.784375   968.277251   \n",
       "6      10    0.022328        0.987891  0.493775      0.782813  1130.125082   \n",
       "7      10    0.019302        0.987891  0.470476      0.768750  1291.584730   \n",
       "8      10    0.009378        0.994531  0.509134      0.770312  1453.542128   \n",
       "9      10    0.010233        0.993359  0.537083      0.784375  1615.989071   \n",
       "\n",
       "   batch_size         Bert Model  learning rate  \n",
       "0           2  bert-base-uncased       0.000006  \n",
       "1           2  bert-base-uncased       0.000006  \n",
       "2           2  bert-base-uncased       0.000006  \n",
       "3           2  bert-base-uncased       0.000006  \n",
       "4           2  bert-base-uncased       0.000006  \n",
       "5           2  bert-base-uncased       0.000006  \n",
       "6           2  bert-base-uncased       0.000006  \n",
       "7           2  bert-base-uncased       0.000006  \n",
       "8           2  bert-base-uncased       0.000006  \n",
       "9           2  bert-base-uncased       0.000006  "
      ]
     },
     "execution_count": 232,
     "metadata": {},
     "output_type": "execute_result"
    }
   ],
   "source": [
    "df_first = pd.DataFrame(result_first)\n",
    "df_first"
   ]
  },
  {
   "cell_type": "markdown",
   "id": "9f9f5cb0",
   "metadata": {},
   "source": [
    "I took the best epoch number as 2. After this point, validation loss gets decrease."
   ]
  },
  {
   "cell_type": "markdown",
   "id": "d3bcd1bc",
   "metadata": {},
   "source": [
    "## The Final Model for the First Task"
   ]
  },
  {
   "cell_type": "code",
   "execution_count": 31,
   "id": "e9defef7",
   "metadata": {},
   "outputs": [],
   "source": [
    "text_column_name='sentence'\n",
    "bert_model=bertModel(par=\"base\")\n",
    "\n",
    "num_classes=len(labels.keys())\n",
    "tokenizer=BertTokenizer.from_pretrained(bert_model)"
   ]
  },
  {
   "cell_type": "code",
   "execution_count": 32,
   "id": "8292c67d",
   "metadata": {},
   "outputs": [],
   "source": [
    "train_data=Dataset(train_df2,text_column_name)\n",
    "val_data=Dataset(val_df2,text_column_name)\n",
    "\n",
    "list_numeric_train=list(train_df2['label'].apply(lambda x: labels[x]))\n",
    "list_numeric_val=list(val_df2['label'].apply(lambda x: labels[x]))"
   ]
  },
  {
   "cell_type": "code",
   "execution_count": 33,
   "id": "df20510b",
   "metadata": {},
   "outputs": [],
   "source": [
    "model_first_task=BertClassifier(num_classes=num_classes)"
   ]
  },
  {
   "cell_type": "code",
   "execution_count": 34,
   "id": "72b30679",
   "metadata": {},
   "outputs": [
    {
     "name": "stderr",
     "output_type": "stream",
     "text": [
      "100%|██████████████████████████████████████████████████████████████████████████████| 1280/1280 [07:38<00:00,  2.79it/s]\n",
      "100%|██████████████████████████████████████████████████████████████████████████████| 1280/1280 [07:39<00:00,  2.78it/s]\n"
     ]
    }
   ],
   "source": [
    "result_first,train_pred_first,val_pred_first=train(model_first_task,\n",
    "                                                   train_data,\n",
    "                                                   val_data,\n",
    "                                                   list_numeric_val,\n",
    "                                                   learning_rate=6.5e-6,\n",
    "                                                   epochs=2, \n",
    "                                                   batch_size=2)"
   ]
  },
  {
   "cell_type": "markdown",
   "id": "85aaca26",
   "metadata": {},
   "source": [
    "## Evaluation First Task"
   ]
  },
  {
   "cell_type": "code",
   "execution_count": 35,
   "id": "8641be30",
   "metadata": {},
   "outputs": [
    {
     "name": "stderr",
     "output_type": "stream",
     "text": [
      "100%|████████████████████████████████████████████████████████████████████████████████| 320/320 [00:37<00:00,  8.45it/s]\n",
      "100%|████████████████████████████████████████████████████████████████████████████████| 320/320 [00:38<00:00,  8.40it/s]\n"
     ]
    }
   ],
   "source": [
    "results_t1,predictions_t1=evaluate(model_first_task,\n",
    "               train_data,\n",
    "               val_data,\n",
    "               list_numeric_val,\n",
    "               learning_rate=6.5e-6,\n",
    "               epochs=2, \n",
    "               batch_size=2)"
   ]
  },
  {
   "cell_type": "code",
   "execution_count": 36,
   "id": "cff4ee3d",
   "metadata": {},
   "outputs": [
    {
     "name": "stdout",
     "output_type": "stream",
     "text": [
      "Model Performance\n"
     ]
    },
    {
     "data": {
      "text/html": [
       "<div>\n",
       "<style scoped>\n",
       "    .dataframe tbody tr th:only-of-type {\n",
       "        vertical-align: middle;\n",
       "    }\n",
       "\n",
       "    .dataframe tbody tr th {\n",
       "        vertical-align: top;\n",
       "    }\n",
       "\n",
       "    .dataframe thead th {\n",
       "        text-align: right;\n",
       "    }\n",
       "</style>\n",
       "<table border=\"1\" class=\"dataframe\">\n",
       "  <thead>\n",
       "    <tr style=\"text-align: right;\">\n",
       "      <th></th>\n",
       "      <th>precision</th>\n",
       "      <th>recall</th>\n",
       "      <th>f1-score</th>\n",
       "      <th>support</th>\n",
       "    </tr>\n",
       "  </thead>\n",
       "  <tbody>\n",
       "    <tr>\n",
       "      <th>0</th>\n",
       "      <td>0.669604</td>\n",
       "      <td>0.918429</td>\n",
       "      <td>0.774522</td>\n",
       "      <td>331.000000</td>\n",
       "    </tr>\n",
       "    <tr>\n",
       "      <th>1</th>\n",
       "      <td>0.854839</td>\n",
       "      <td>0.514563</td>\n",
       "      <td>0.642424</td>\n",
       "      <td>309.000000</td>\n",
       "    </tr>\n",
       "    <tr>\n",
       "      <th>accuracy</th>\n",
       "      <td>0.723437</td>\n",
       "      <td>0.723437</td>\n",
       "      <td>0.723437</td>\n",
       "      <td>0.723437</td>\n",
       "    </tr>\n",
       "    <tr>\n",
       "      <th>macro avg</th>\n",
       "      <td>0.762221</td>\n",
       "      <td>0.716496</td>\n",
       "      <td>0.708473</td>\n",
       "      <td>640.000000</td>\n",
       "    </tr>\n",
       "    <tr>\n",
       "      <th>weighted avg</th>\n",
       "      <td>0.759037</td>\n",
       "      <td>0.723437</td>\n",
       "      <td>0.710744</td>\n",
       "      <td>640.000000</td>\n",
       "    </tr>\n",
       "  </tbody>\n",
       "</table>\n",
       "</div>"
      ],
      "text/plain": [
       "              precision    recall  f1-score     support\n",
       "0              0.669604  0.918429  0.774522  331.000000\n",
       "1              0.854839  0.514563  0.642424  309.000000\n",
       "accuracy       0.723437  0.723437  0.723437    0.723437\n",
       "macro avg      0.762221  0.716496  0.708473  640.000000\n",
       "weighted avg   0.759037  0.723437  0.710744  640.000000"
      ]
     },
     "execution_count": 36,
     "metadata": {},
     "output_type": "execute_result"
    }
   ],
   "source": [
    "#classification report\n",
    "report = classification_report(list_numeric_val, predictions_t1, zero_division=0, output_dict=True)\n",
    "\n",
    "#convert it into dataframe\n",
    "df_report_train1 = pd.DataFrame(report).transpose()\n",
    "print(\"Model Performance\")\n",
    "df_report_train1"
   ]
  },
  {
   "cell_type": "code",
   "execution_count": 37,
   "id": "b7ae9efe",
   "metadata": {},
   "outputs": [
    {
     "data": {
      "image/png": "[encoded data removed]",
      "text/plain": [
       "<Figure size 640x480 with 2 Axes>"
      ]
     },
     "metadata": {},
     "output_type": "display_data"
    }
   ],
   "source": [
    "#plot confusion matrix\n",
    "plt.figure()\n",
    "cm = confusion_matrix(list_numeric_val, predictions_t1)\n",
    "sns.heatmap(cm, annot=True, fmt=\"d\", linewidths=0.5)\n",
    "plt.title('Confusion Matrix')\n",
    "plt.xlabel('Prediction')\n",
    "plt.ylabel('Actual')\n",
    "plt.show()"
   ]
  },
  {
   "cell_type": "code",
   "execution_count": 49,
   "id": "3143398d",
   "metadata": {},
   "outputs": [
    {
     "data": {
      "image/png": "[encoded data removed]",
      "text/plain": [
       "<Figure size 640x480 with 2 Axes>"
      ]
     },
     "metadata": {},
     "output_type": "display_data"
    }
   ],
   "source": [
    "# Plot confusion matrix\n",
    "plt.figure()\n",
    "cm = confusion_matrix(list_numeric_val, predictions_t1)\n",
    "sns.heatmap(cm, annot=True, fmt=\"d\", linewidths=0.5)\n",
    "plt.title('Confusion Matrix')\n",
    "plt.xlabel('Prediction')\n",
    "plt.ylabel('Actual')\n",
    "\n",
    "# Add a legend\n",
    "plt.legend(title=\"Legend\", loc=\"upper left\", labels=['not_propaganda','propaganda' ])\n",
    "\n",
    "plt.show()"
   ]
  },
  {
   "cell_type": "code",
   "execution_count": 53,
   "id": "44f76726",
   "metadata": {},
   "outputs": [],
   "source": [
    "model_first_task.bert.save_pretrained(\"Task1_BERT_model\")"
   ]
  },
  {
   "cell_type": "code",
   "execution_count": 238,
   "id": "a585b9c4",
   "metadata": {},
   "outputs": [],
   "source": [
    "model_try_first = BertModel.from_pretrained(\"Task1_BERT_model\")"
   ]
  },
  {
   "cell_type": "markdown",
   "id": "780dc295",
   "metadata": {},
   "source": [
    "# Task2: Propaganda Classification"
   ]
  },
  {
   "cell_type": "markdown",
   "id": "4dc7bc11",
   "metadata": {},
   "source": [
    "At first, copying dataframe can be better, otherwise it is required to work all codes from very beginning in case of making mistake"
   ]
  },
  {
   "cell_type": "code",
   "execution_count": 31,
   "id": "8dba3666",
   "metadata": {},
   "outputs": [],
   "source": [
    "train_df3=train_df.copy(deep=True) #copy training dataframe\n",
    "val_df3=val_df.copy(deep=True) #copy validation dataframe"
   ]
  },
  {
   "cell_type": "markdown",
   "id": "a831f891",
   "metadata": {},
   "source": [
    "Since the propaganda types are needed to be classified, not propaganda labelled rows must be excluded from the dataset"
   ]
  },
  {
   "cell_type": "markdown",
   "id": "8fea5ba3",
   "metadata": {},
   "source": [
    "## Excluding not_propaganda from Dataframe"
   ]
  },
  {
   "cell_type": "code",
   "execution_count": 32,
   "id": "2812ed7a",
   "metadata": {},
   "outputs": [],
   "source": [
    "train_df3=train_df3[train_df3['label']!='not_propaganda']\n",
    "val_df3=val_df3[val_df3['label']!='not_propaganda']"
   ]
  },
  {
   "cell_type": "markdown",
   "id": "ee073a4c",
   "metadata": {},
   "source": [
    "## Taking the Snippets"
   ]
  },
  {
   "cell_type": "code",
   "execution_count": 33,
   "id": "b1a1ccaf",
   "metadata": {},
   "outputs": [],
   "source": [
    "#function which gives the text between specified characters\n",
    "def snippet(text,first_tag,second_tag):\n",
    "    starting=text.find(first_tag)\n",
    "    ending=text.find(second_tag)\n",
    "    return text[starting+6:ending-1]"
   ]
  },
  {
   "cell_type": "code",
   "execution_count": 34,
   "id": "7171edb2",
   "metadata": {},
   "outputs": [],
   "source": [
    "#changing sentence column with the records of snippets\n",
    "train_df3['sentence']=train_df3['sentence'].apply(lambda x: snippet(x,\"<BOS>\",\"<EOS>\"))\n",
    "val_df3['sentence']=val_df3['sentence'].apply(lambda x: snippet(x,\"<BOS>\",\"<EOS>\"))"
   ]
  },
  {
   "cell_type": "code",
   "execution_count": 35,
   "id": "8742d864",
   "metadata": {},
   "outputs": [
    {
     "data": {
      "text/html": [
       "<div>\n",
       "<style scoped>\n",
       "    .dataframe tbody tr th:only-of-type {\n",
       "        vertical-align: middle;\n",
       "    }\n",
       "\n",
       "    .dataframe tbody tr th {\n",
       "        vertical-align: top;\n",
       "    }\n",
       "\n",
       "    .dataframe thead th {\n",
       "        text-align: right;\n",
       "    }\n",
       "</style>\n",
       "<table border=\"1\" class=\"dataframe\">\n",
       "  <thead>\n",
       "    <tr style=\"text-align: right;\">\n",
       "      <th></th>\n",
       "      <th>label</th>\n",
       "      <th>sentence</th>\n",
       "    </tr>\n",
       "  </thead>\n",
       "  <tbody>\n",
       "    <tr>\n",
       "      <th>2</th>\n",
       "      <td>flag_waving</td>\n",
       "      <td>American people</td>\n",
       "    </tr>\n",
       "    <tr>\n",
       "      <th>5</th>\n",
       "      <td>loaded_language</td>\n",
       "      <td>annihilated</td>\n",
       "    </tr>\n",
       "    <tr>\n",
       "      <th>8</th>\n",
       "      <td>doubt</td>\n",
       "      <td>so-called evidence</td>\n",
       "    </tr>\n",
       "    <tr>\n",
       "      <th>10</th>\n",
       "      <td>name_calling,labeling</td>\n",
       "      <td>hateful conduct</td>\n",
       "    </tr>\n",
       "    <tr>\n",
       "      <th>12</th>\n",
       "      <td>appeal_to_fear_prejudice</td>\n",
       "      <td>point to Iran’s positioning itself for more ag...</td>\n",
       "    </tr>\n",
       "  </tbody>\n",
       "</table>\n",
       "</div>"
      ],
      "text/plain": [
       "                       label  \\\n",
       "2                flag_waving   \n",
       "5            loaded_language   \n",
       "8                      doubt   \n",
       "10     name_calling,labeling   \n",
       "12  appeal_to_fear_prejudice   \n",
       "\n",
       "                                             sentence  \n",
       "2                                     American people  \n",
       "5                                         annihilated  \n",
       "8                                  so-called evidence  \n",
       "10                                    hateful conduct  \n",
       "12  point to Iran’s positioning itself for more ag...  "
      ]
     },
     "execution_count": 35,
     "metadata": {},
     "output_type": "execute_result"
    }
   ],
   "source": [
    "#to check changes\n",
    "train_df3.head()"
   ]
  },
  {
   "cell_type": "code",
   "execution_count": 36,
   "id": "c19ff140",
   "metadata": {},
   "outputs": [
    {
     "data": {
      "text/plain": [
       "{'flag_waving': 0,\n",
       " 'loaded_language': 1,\n",
       " 'doubt': 2,\n",
       " 'name_calling,labeling': 3,\n",
       " 'appeal_to_fear_prejudice': 4,\n",
       " 'repetition': 5,\n",
       " 'causal_oversimplification': 6,\n",
       " 'exaggeration,minimisation': 7}"
      ]
     },
     "execution_count": 36,
     "metadata": {},
     "output_type": "execute_result"
    }
   ],
   "source": [
    "#finding labels and reverse version of it\n",
    "labels={}\n",
    "reverse={}\n",
    "for i,j in enumerate(train_df3.label.unique()):\n",
    "    labels[j]=i\n",
    "    reverse_index[i]=j\n",
    "labels"
   ]
  },
  {
   "cell_type": "code",
   "execution_count": 37,
   "id": "0f774927",
   "metadata": {},
   "outputs": [
    {
     "data": {
      "text/plain": [
       "{0: 'flag_waving',\n",
       " 1: 'loaded_language',\n",
       " 2: 'doubt',\n",
       " 3: 'name_calling,labeling',\n",
       " 4: 'appeal_to_fear_prejudice',\n",
       " 5: 'repetition',\n",
       " 6: 'causal_oversimplification',\n",
       " 7: 'exaggeration,minimisation'}"
      ]
     },
     "execution_count": 37,
     "metadata": {},
     "output_type": "execute_result"
    }
   ],
   "source": [
    "reverse_index"
   ]
  },
  {
   "cell_type": "markdown",
   "id": "4323a21d",
   "metadata": {},
   "source": [
    "**Good Approaches:**\n",
    "\n",
    "- not to freeze model weights\n",
    "\n",
    "- to increase epoch\n",
    "\n",
    "- learning rate: $6.5x10^{-6}$\n"
   ]
  },
  {
   "cell_type": "markdown",
   "id": "df9b47e9",
   "metadata": {},
   "source": [
    "The good approaches have already been found in the task 1, according to that one, I changed the parameters to be sure that I get a good model"
   ]
  },
  {
   "cell_type": "markdown",
   "id": "dc7ead9b",
   "metadata": {},
   "source": [
    "### not freeze model weights, epochs: 3, learning rate: $6.5x10^{-6}$"
   ]
  },
  {
   "cell_type": "code",
   "execution_count": 40,
   "id": "a28b7c45",
   "metadata": {},
   "outputs": [],
   "source": [
    "epochs=[3]\n",
    "learning_rates= [1e-6, 6.5e-6]\n",
    "batch_sizes=[2]\n",
    "\n",
    "text_column_name='sentence'\n",
    "bert_model=bertModel(par=\"base\")\n",
    "\n",
    "num_classes=len(labels.keys())\n",
    "tokenizer=BertTokenizer.from_pretrained(bert_model)"
   ]
  },
  {
   "cell_type": "code",
   "execution_count": 41,
   "id": "8f1f1f57",
   "metadata": {},
   "outputs": [],
   "source": [
    "train_data=Dataset(train_df3,text_column_name)\n",
    "val_data=Dataset(val_df3,text_column_name)\n",
    "list_numeric_train=list(train_df3['label'].apply(lambda x: labels[x]))\n",
    "list_numeric_val=list(val_df3['label'].apply(lambda x: labels[x]))"
   ]
  },
  {
   "cell_type": "code",
   "execution_count": 42,
   "id": "b3eb8c52",
   "metadata": {},
   "outputs": [
    {
     "name": "stderr",
     "output_type": "stream",
     "text": [
      "100%|████████████████████████████████████████████████████████████████████████████████| 646/646 [01:16<00:00,  8.45it/s]\n",
      "100%|████████████████████████████████████████████████████████████████████████████████| 646/646 [01:16<00:00,  8.46it/s]\n",
      "100%|████████████████████████████████████████████████████████████████████████████████| 646/646 [01:15<00:00,  8.51it/s]\n"
     ]
    },
    {
     "name": "stdout",
     "output_type": "stream",
     "text": [
      "[{'epochs': 3, 'train_loss': 1.0532088202159595, 'train_accuracy': 0.12470952749806352, 'val_loss': 1.0351894449647576, 'val_accuracy': 0.1423948220064725, 'time': 81.81351089477539, 'batch_size': 2, 'Bert Model': 'bert-base-uncased', 'learning rate': 1e-06}, {'epochs': 3, 'train_loss': 1.0348803985035762, 'train_accuracy': 0.17041053446940357, 'val_loss': 1.0128100242429567, 'val_accuracy': 0.26537216828478966, 'time': 163.49351286888123, 'batch_size': 2, 'Bert Model': 'bert-base-uncased', 'learning rate': 1e-06}, {'epochs': 3, 'train_loss': 1.0084743448046176, 'train_accuracy': 0.21533694810224632, 'val_loss': 0.9826978051546708, 'val_accuracy': 0.3106796116504854, 'time': 244.75003790855408, 'batch_size': 2, 'Bert Model': 'bert-base-uncased', 'learning rate': 1e-06}]\n"
     ]
    },
    {
     "name": "stderr",
     "output_type": "stream",
     "text": [
      "100%|████████████████████████████████████████████████████████████████████████████████| 646/646 [01:16<00:00,  8.49it/s]\n",
      "100%|████████████████████████████████████████████████████████████████████████████████| 646/646 [01:16<00:00,  8.48it/s]\n",
      "100%|████████████████████████████████████████████████████████████████████████████████| 646/646 [01:15<00:00,  8.54it/s]\n"
     ]
    },
    {
     "name": "stdout",
     "output_type": "stream",
     "text": [
      "[{'epochs': 3, 'train_loss': 1.0125367707009467, 'train_accuracy': 0.20061967467079783, 'val_loss': 0.9283963059916079, 'val_accuracy': 0.3333333333333333, 'time': 81.3772964477539, 'batch_size': 2, 'Bert Model': 'bert-base-uncased', 'learning rate': 6.5e-06}, {'epochs': 3, 'train_loss': 0.8865660689396049, 'train_accuracy': 0.3516653756777692, 'val_loss': 0.7982007899716448, 'val_accuracy': 0.4336569579288026, 'time': 163.03536415100098, 'batch_size': 2, 'Bert Model': 'bert-base-uncased', 'learning rate': 6.5e-06}, {'epochs': 3, 'train_loss': 0.7151455301632722, 'train_accuracy': 0.5274980635166537, 'val_loss': 0.6683757434385108, 'val_accuracy': 0.5566343042071198, 'time': 243.96747994422913, 'batch_size': 2, 'Bert Model': 'bert-base-uncased', 'learning rate': 6.5e-06}]\n"
     ]
    }
   ],
   "source": [
    "results21=[]\n",
    "for learning_rate in learning_rates:\n",
    "    for batch_size in batch_sizes:\n",
    "        for epoch in epochs:\n",
    "\n",
    "            model=BertClassifier(num_classes=num_classes)\n",
    "\n",
    "            result21,train_pred21,val_pred21=train(model,train_data,val_data,list_numeric_val,learning_rate,epoch,batch_size)\n",
    "            print(result21)\n",
    "            for i in result21:\n",
    "                results21.append(i)"
   ]
  },
  {
   "cell_type": "markdown",
   "id": "59f77f22",
   "metadata": {},
   "source": [
    "As it can be seen above, it works better with the learning rate of $6.5x10^{-6}$."
   ]
  },
  {
   "cell_type": "markdown",
   "id": "75170a73",
   "metadata": {},
   "source": [
    "### Finding the Best Epoch Number\n",
    "\n",
    "- **model:** BERT base\n",
    "\n",
    "- **epochs:** 10\n",
    "\n",
    "- **learning rate:** $6.5x10^{-6}$\n",
    "\n",
    "- **batch size:** 2"
   ]
  },
  {
   "cell_type": "code",
   "execution_count": 56,
   "id": "57e39fd3",
   "metadata": {},
   "outputs": [],
   "source": [
    "text_column_name='sentence'\n",
    "bert_model=bertModel(par=\"base\")\n",
    "\n",
    "num_classes=len(labels.keys())\n",
    "tokenizer=BertTokenizer.from_pretrained(bert_model)"
   ]
  },
  {
   "cell_type": "code",
   "execution_count": 57,
   "id": "c948973e",
   "metadata": {},
   "outputs": [],
   "source": [
    "train_data=Dataset(train_df3,text_column_name)\n",
    "val_data=Dataset(val_df3,text_column_name)\n",
    "list_numeric_train=list(train_df3['label'].apply(lambda x: labels[x]))\n",
    "list_numeric_val=list(val_df3['label'].apply(lambda x: labels[x]))"
   ]
  },
  {
   "cell_type": "code",
   "execution_count": 58,
   "id": "de6c0003",
   "metadata": {},
   "outputs": [],
   "source": [
    "model_second_task=BertClassifier(num_classes=num_classes)"
   ]
  },
  {
   "cell_type": "code",
   "execution_count": 59,
   "id": "921cd50e",
   "metadata": {},
   "outputs": [
    {
     "name": "stderr",
     "output_type": "stream",
     "text": [
      "100%|████████████████████████████████████████████████████████████████████████████████| 646/646 [01:15<00:00,  8.54it/s]\n",
      "100%|████████████████████████████████████████████████████████████████████████████████| 646/646 [01:15<00:00,  8.55it/s]\n",
      "100%|████████████████████████████████████████████████████████████████████████████████| 646/646 [01:15<00:00,  8.50it/s]\n",
      "100%|████████████████████████████████████████████████████████████████████████████████| 646/646 [01:15<00:00,  8.51it/s]\n",
      "100%|████████████████████████████████████████████████████████████████████████████████| 646/646 [01:15<00:00,  8.52it/s]\n",
      "100%|████████████████████████████████████████████████████████████████████████████████| 646/646 [01:15<00:00,  8.52it/s]\n",
      "100%|████████████████████████████████████████████████████████████████████████████████| 646/646 [01:15<00:00,  8.52it/s]\n",
      "100%|████████████████████████████████████████████████████████████████████████████████| 646/646 [01:16<00:00,  8.50it/s]\n",
      "100%|████████████████████████████████████████████████████████████████████████████████| 646/646 [01:16<00:00,  8.43it/s]\n",
      "100%|████████████████████████████████████████████████████████████████████████████████| 646/646 [01:16<00:00,  8.48it/s]\n"
     ]
    }
   ],
   "source": [
    "result_final,train_pred_final,val_pred_final=train(model_second_task,\n",
    "                                                   train_data,\n",
    "                                                   val_data,\n",
    "                                                   list_numeric_val,\n",
    "                                                   learning_rate=6.5e-6,\n",
    "                                                   epochs=10, \n",
    "                                                   batch_size=2)"
   ]
  },
  {
   "cell_type": "code",
   "execution_count": 126,
   "id": "d5aa6757",
   "metadata": {
    "scrolled": true
   },
   "outputs": [
    {
     "data": {
      "text/html": [
       "<div>\n",
       "<style scoped>\n",
       "    .dataframe tbody tr th:only-of-type {\n",
       "        vertical-align: middle;\n",
       "    }\n",
       "\n",
       "    .dataframe tbody tr th {\n",
       "        vertical-align: top;\n",
       "    }\n",
       "\n",
       "    .dataframe thead th {\n",
       "        text-align: right;\n",
       "    }\n",
       "</style>\n",
       "<table border=\"1\" class=\"dataframe\">\n",
       "  <thead>\n",
       "    <tr style=\"text-align: right;\">\n",
       "      <th></th>\n",
       "      <th>epochs</th>\n",
       "      <th>train_loss</th>\n",
       "      <th>train_accuracy</th>\n",
       "      <th>val_loss</th>\n",
       "      <th>val_accuracy</th>\n",
       "      <th>time</th>\n",
       "      <th>batch_size</th>\n",
       "      <th>Bert Model</th>\n",
       "      <th>learning rate</th>\n",
       "    </tr>\n",
       "  </thead>\n",
       "  <tbody>\n",
       "    <tr>\n",
       "      <th>0</th>\n",
       "      <td>10</td>\n",
       "      <td>1.021339</td>\n",
       "      <td>0.194423</td>\n",
       "      <td>0.966035</td>\n",
       "      <td>0.336570</td>\n",
       "      <td>81.195166</td>\n",
       "      <td>2</td>\n",
       "      <td>bert-base-uncased</td>\n",
       "      <td>0.000006</td>\n",
       "    </tr>\n",
       "    <tr>\n",
       "      <th>1</th>\n",
       "      <td>10</td>\n",
       "      <td>0.888856</td>\n",
       "      <td>0.382649</td>\n",
       "      <td>0.783630</td>\n",
       "      <td>0.485437</td>\n",
       "      <td>162.182614</td>\n",
       "      <td>2</td>\n",
       "      <td>bert-base-uncased</td>\n",
       "      <td>0.000006</td>\n",
       "    </tr>\n",
       "    <tr>\n",
       "      <th>2</th>\n",
       "      <td>10</td>\n",
       "      <td>0.641465</td>\n",
       "      <td>0.596437</td>\n",
       "      <td>0.640327</td>\n",
       "      <td>0.559871</td>\n",
       "      <td>243.513885</td>\n",
       "      <td>2</td>\n",
       "      <td>bert-base-uncased</td>\n",
       "      <td>0.000006</td>\n",
       "    </tr>\n",
       "    <tr>\n",
       "      <th>3</th>\n",
       "      <td>10</td>\n",
       "      <td>0.443986</td>\n",
       "      <td>0.759101</td>\n",
       "      <td>0.549515</td>\n",
       "      <td>0.647249</td>\n",
       "      <td>324.727251</td>\n",
       "      <td>2</td>\n",
       "      <td>bert-base-uncased</td>\n",
       "      <td>0.000006</td>\n",
       "    </tr>\n",
       "    <tr>\n",
       "      <th>4</th>\n",
       "      <td>10</td>\n",
       "      <td>0.288865</td>\n",
       "      <td>0.861348</td>\n",
       "      <td>0.572207</td>\n",
       "      <td>0.624595</td>\n",
       "      <td>405.901068</td>\n",
       "      <td>2</td>\n",
       "      <td>bert-base-uncased</td>\n",
       "      <td>0.000006</td>\n",
       "    </tr>\n",
       "    <tr>\n",
       "      <th>5</th>\n",
       "      <td>10</td>\n",
       "      <td>0.194085</td>\n",
       "      <td>0.914020</td>\n",
       "      <td>0.590816</td>\n",
       "      <td>0.644013</td>\n",
       "      <td>487.133564</td>\n",
       "      <td>2</td>\n",
       "      <td>bert-base-uncased</td>\n",
       "      <td>0.000006</td>\n",
       "    </tr>\n",
       "    <tr>\n",
       "      <th>6</th>\n",
       "      <td>10</td>\n",
       "      <td>0.127625</td>\n",
       "      <td>0.946553</td>\n",
       "      <td>0.623154</td>\n",
       "      <td>0.631068</td>\n",
       "      <td>568.249972</td>\n",
       "      <td>2</td>\n",
       "      <td>bert-base-uncased</td>\n",
       "      <td>0.000006</td>\n",
       "    </tr>\n",
       "    <tr>\n",
       "      <th>7</th>\n",
       "      <td>10</td>\n",
       "      <td>0.088712</td>\n",
       "      <td>0.965918</td>\n",
       "      <td>0.655357</td>\n",
       "      <td>0.640777</td>\n",
       "      <td>649.635240</td>\n",
       "      <td>2</td>\n",
       "      <td>bert-base-uncased</td>\n",
       "      <td>0.000006</td>\n",
       "    </tr>\n",
       "    <tr>\n",
       "      <th>8</th>\n",
       "      <td>10</td>\n",
       "      <td>0.067241</td>\n",
       "      <td>0.972889</td>\n",
       "      <td>0.697703</td>\n",
       "      <td>0.621359</td>\n",
       "      <td>731.609267</td>\n",
       "      <td>2</td>\n",
       "      <td>bert-base-uncased</td>\n",
       "      <td>0.000006</td>\n",
       "    </tr>\n",
       "    <tr>\n",
       "      <th>9</th>\n",
       "      <td>10</td>\n",
       "      <td>0.059235</td>\n",
       "      <td>0.972889</td>\n",
       "      <td>0.738718</td>\n",
       "      <td>0.595469</td>\n",
       "      <td>813.199158</td>\n",
       "      <td>2</td>\n",
       "      <td>bert-base-uncased</td>\n",
       "      <td>0.000006</td>\n",
       "    </tr>\n",
       "  </tbody>\n",
       "</table>\n",
       "</div>"
      ],
      "text/plain": [
       "   epochs  train_loss  train_accuracy  val_loss  val_accuracy        time  \\\n",
       "0      10    1.021339        0.194423  0.966035      0.336570   81.195166   \n",
       "1      10    0.888856        0.382649  0.783630      0.485437  162.182614   \n",
       "2      10    0.641465        0.596437  0.640327      0.559871  243.513885   \n",
       "3      10    0.443986        0.759101  0.549515      0.647249  324.727251   \n",
       "4      10    0.288865        0.861348  0.572207      0.624595  405.901068   \n",
       "5      10    0.194085        0.914020  0.590816      0.644013  487.133564   \n",
       "6      10    0.127625        0.946553  0.623154      0.631068  568.249972   \n",
       "7      10    0.088712        0.965918  0.655357      0.640777  649.635240   \n",
       "8      10    0.067241        0.972889  0.697703      0.621359  731.609267   \n",
       "9      10    0.059235        0.972889  0.738718      0.595469  813.199158   \n",
       "\n",
       "   batch_size         Bert Model  learning rate  \n",
       "0           2  bert-base-uncased       0.000006  \n",
       "1           2  bert-base-uncased       0.000006  \n",
       "2           2  bert-base-uncased       0.000006  \n",
       "3           2  bert-base-uncased       0.000006  \n",
       "4           2  bert-base-uncased       0.000006  \n",
       "5           2  bert-base-uncased       0.000006  \n",
       "6           2  bert-base-uncased       0.000006  \n",
       "7           2  bert-base-uncased       0.000006  \n",
       "8           2  bert-base-uncased       0.000006  \n",
       "9           2  bert-base-uncased       0.000006  "
      ]
     },
     "execution_count": 126,
     "metadata": {},
     "output_type": "execute_result"
    }
   ],
   "source": [
    "df = pd.DataFrame(result_final)\n",
    "df"
   ]
  },
  {
   "cell_type": "markdown",
   "id": "c8402208",
   "metadata": {},
   "source": [
    "It can be seen that the validation accuracy goes down after 8th epoch. There might be overfitting after that point. Because of that, I limited the epoch number at 8."
   ]
  },
  {
   "cell_type": "markdown",
   "id": "685af756",
   "metadata": {},
   "source": [
    "## The Final Model for the Second Task"
   ]
  },
  {
   "cell_type": "code",
   "execution_count": 127,
   "id": "88e99ea4",
   "metadata": {},
   "outputs": [],
   "source": [
    "text_column_name='sentence'\n",
    "bert_model=bertModel(par=\"base\")\n",
    "\n",
    "num_classes=len(labels.keys())\n",
    "tokenizer=BertTokenizer.from_pretrained(bert_model)"
   ]
  },
  {
   "cell_type": "code",
   "execution_count": 181,
   "id": "42357d4c",
   "metadata": {},
   "outputs": [],
   "source": [
    "train_data=Dataset(train_df3,text_column_name)\n",
    "val_data=Dataset(val_df3,text_column_name)\n",
    "list_numeric_train=list(train_df3['label'].apply(lambda x: labels[x]))\n",
    "list_numeric_val=list(val_df3['label'].apply(lambda x: labels[x]))"
   ]
  },
  {
   "cell_type": "code",
   "execution_count": 40,
   "id": "acf709a5",
   "metadata": {},
   "outputs": [],
   "source": [
    "model_second_task=BertClassifier(num_classes=num_classes)"
   ]
  },
  {
   "cell_type": "code",
   "execution_count": 41,
   "id": "3bd4149b",
   "metadata": {},
   "outputs": [
    {
     "name": "stderr",
     "output_type": "stream",
     "text": [
      "100%|████████████████████████████████████████████████████████████████████████████████| 646/646 [03:50<00:00,  2.80it/s]\n",
      "100%|████████████████████████████████████████████████████████████████████████████████| 646/646 [03:52<00:00,  2.78it/s]\n",
      "100%|████████████████████████████████████████████████████████████████████████████████| 646/646 [03:52<00:00,  2.78it/s]\n",
      "100%|████████████████████████████████████████████████████████████████████████████████| 646/646 [03:52<00:00,  2.78it/s]\n",
      "100%|████████████████████████████████████████████████████████████████████████████████| 646/646 [03:52<00:00,  2.78it/s]\n",
      "100%|████████████████████████████████████████████████████████████████████████████████| 646/646 [03:52<00:00,  2.78it/s]\n",
      "100%|████████████████████████████████████████████████████████████████████████████████| 646/646 [03:52<00:00,  2.78it/s]\n",
      "100%|████████████████████████████████████████████████████████████████████████████████| 646/646 [03:52<00:00,  2.78it/s]\n",
      "100%|████████████████████████████████████████████████████████████████████████████████| 646/646 [03:52<00:00,  2.78it/s]\n",
      "100%|████████████████████████████████████████████████████████████████████████████████| 646/646 [03:52<00:00,  2.78it/s]\n",
      "100%|████████████████████████████████████████████████████████████████████████████████| 646/646 [03:52<00:00,  2.78it/s]\n",
      "100%|████████████████████████████████████████████████████████████████████████████████| 646/646 [03:52<00:00,  2.78it/s]\n",
      "100%|████████████████████████████████████████████████████████████████████████████████| 646/646 [03:52<00:00,  2.78it/s]\n",
      "100%|████████████████████████████████████████████████████████████████████████████████| 646/646 [03:52<00:00,  2.78it/s]\n",
      "100%|████████████████████████████████████████████████████████████████████████████████| 646/646 [03:52<00:00,  2.78it/s]\n"
     ]
    }
   ],
   "source": [
    "result_final,train_pred_final,val_pred_final=train(model_second_task,\n",
    "                                                   train_data,\n",
    "                                                   val_data,\n",
    "                                                   list_numeric_val,\n",
    "                                                   learning_rate=6.5e-6,\n",
    "                                                   epochs=15, \n",
    "                                                   batch_size=2)"
   ]
  },
  {
   "cell_type": "code",
   "execution_count": 42,
   "id": "83820dfa",
   "metadata": {},
   "outputs": [
    {
     "data": {
      "text/html": [
       "<div>\n",
       "<style scoped>\n",
       "    .dataframe tbody tr th:only-of-type {\n",
       "        vertical-align: middle;\n",
       "    }\n",
       "\n",
       "    .dataframe tbody tr th {\n",
       "        vertical-align: top;\n",
       "    }\n",
       "\n",
       "    .dataframe thead th {\n",
       "        text-align: right;\n",
       "    }\n",
       "</style>\n",
       "<table border=\"1\" class=\"dataframe\">\n",
       "  <thead>\n",
       "    <tr style=\"text-align: right;\">\n",
       "      <th></th>\n",
       "      <th>epochs</th>\n",
       "      <th>train_loss</th>\n",
       "      <th>train_accuracy</th>\n",
       "      <th>val_loss</th>\n",
       "      <th>val_accuracy</th>\n",
       "      <th>time</th>\n",
       "      <th>batch_size</th>\n",
       "      <th>Bert Model</th>\n",
       "      <th>learning rate</th>\n",
       "    </tr>\n",
       "  </thead>\n",
       "  <tbody>\n",
       "    <tr>\n",
       "      <th>0</th>\n",
       "      <td>15</td>\n",
       "      <td>1.020870</td>\n",
       "      <td>0.192874</td>\n",
       "      <td>0.942842</td>\n",
       "      <td>0.291262</td>\n",
       "      <td>249.607533</td>\n",
       "      <td>2</td>\n",
       "      <td>bert-base-uncased</td>\n",
       "      <td>0.000006</td>\n",
       "    </tr>\n",
       "    <tr>\n",
       "      <th>1</th>\n",
       "      <td>15</td>\n",
       "      <td>0.866279</td>\n",
       "      <td>0.386522</td>\n",
       "      <td>0.766524</td>\n",
       "      <td>0.482201</td>\n",
       "      <td>500.819741</td>\n",
       "      <td>2</td>\n",
       "      <td>bert-base-uncased</td>\n",
       "      <td>0.000006</td>\n",
       "    </tr>\n",
       "    <tr>\n",
       "      <th>2</th>\n",
       "      <td>15</td>\n",
       "      <td>0.663429</td>\n",
       "      <td>0.580945</td>\n",
       "      <td>0.632216</td>\n",
       "      <td>0.576052</td>\n",
       "      <td>752.038532</td>\n",
       "      <td>2</td>\n",
       "      <td>bert-base-uncased</td>\n",
       "      <td>0.000006</td>\n",
       "    </tr>\n",
       "    <tr>\n",
       "      <th>3</th>\n",
       "      <td>15</td>\n",
       "      <td>0.470664</td>\n",
       "      <td>0.739737</td>\n",
       "      <td>0.557613</td>\n",
       "      <td>0.618123</td>\n",
       "      <td>1003.227200</td>\n",
       "      <td>2</td>\n",
       "      <td>bert-base-uncased</td>\n",
       "      <td>0.000006</td>\n",
       "    </tr>\n",
       "    <tr>\n",
       "      <th>4</th>\n",
       "      <td>15</td>\n",
       "      <td>0.308950</td>\n",
       "      <td>0.848954</td>\n",
       "      <td>0.591008</td>\n",
       "      <td>0.627832</td>\n",
       "      <td>1254.206833</td>\n",
       "      <td>2</td>\n",
       "      <td>bert-base-uncased</td>\n",
       "      <td>0.000006</td>\n",
       "    </tr>\n",
       "    <tr>\n",
       "      <th>5</th>\n",
       "      <td>15</td>\n",
       "      <td>0.202038</td>\n",
       "      <td>0.908598</td>\n",
       "      <td>0.580146</td>\n",
       "      <td>0.637540</td>\n",
       "      <td>1504.950478</td>\n",
       "      <td>2</td>\n",
       "      <td>bert-base-uncased</td>\n",
       "      <td>0.000006</td>\n",
       "    </tr>\n",
       "    <tr>\n",
       "      <th>6</th>\n",
       "      <td>15</td>\n",
       "      <td>0.131563</td>\n",
       "      <td>0.946553</td>\n",
       "      <td>0.623926</td>\n",
       "      <td>0.634304</td>\n",
       "      <td>1756.070040</td>\n",
       "      <td>2</td>\n",
       "      <td>bert-base-uncased</td>\n",
       "      <td>0.000006</td>\n",
       "    </tr>\n",
       "    <tr>\n",
       "      <th>7</th>\n",
       "      <td>15</td>\n",
       "      <td>0.092297</td>\n",
       "      <td>0.956623</td>\n",
       "      <td>0.620971</td>\n",
       "      <td>0.650485</td>\n",
       "      <td>2007.451801</td>\n",
       "      <td>2</td>\n",
       "      <td>bert-base-uncased</td>\n",
       "      <td>0.000006</td>\n",
       "    </tr>\n",
       "    <tr>\n",
       "      <th>8</th>\n",
       "      <td>15</td>\n",
       "      <td>0.075282</td>\n",
       "      <td>0.965143</td>\n",
       "      <td>0.688540</td>\n",
       "      <td>0.621359</td>\n",
       "      <td>2258.901383</td>\n",
       "      <td>2</td>\n",
       "      <td>bert-base-uncased</td>\n",
       "      <td>0.000006</td>\n",
       "    </tr>\n",
       "    <tr>\n",
       "      <th>9</th>\n",
       "      <td>15</td>\n",
       "      <td>0.053923</td>\n",
       "      <td>0.977537</td>\n",
       "      <td>0.701518</td>\n",
       "      <td>0.660194</td>\n",
       "      <td>2510.350192</td>\n",
       "      <td>2</td>\n",
       "      <td>bert-base-uncased</td>\n",
       "      <td>0.000006</td>\n",
       "    </tr>\n",
       "    <tr>\n",
       "      <th>10</th>\n",
       "      <td>15</td>\n",
       "      <td>0.048161</td>\n",
       "      <td>0.979861</td>\n",
       "      <td>0.659863</td>\n",
       "      <td>0.653722</td>\n",
       "      <td>2761.891391</td>\n",
       "      <td>2</td>\n",
       "      <td>bert-base-uncased</td>\n",
       "      <td>0.000006</td>\n",
       "    </tr>\n",
       "    <tr>\n",
       "      <th>11</th>\n",
       "      <td>15</td>\n",
       "      <td>0.043317</td>\n",
       "      <td>0.980635</td>\n",
       "      <td>0.768439</td>\n",
       "      <td>0.614887</td>\n",
       "      <td>3013.299712</td>\n",
       "      <td>2</td>\n",
       "      <td>bert-base-uncased</td>\n",
       "      <td>0.000006</td>\n",
       "    </tr>\n",
       "    <tr>\n",
       "      <th>12</th>\n",
       "      <td>15</td>\n",
       "      <td>0.040955</td>\n",
       "      <td>0.979861</td>\n",
       "      <td>0.754093</td>\n",
       "      <td>0.647249</td>\n",
       "      <td>3264.825410</td>\n",
       "      <td>2</td>\n",
       "      <td>bert-base-uncased</td>\n",
       "      <td>0.000006</td>\n",
       "    </tr>\n",
       "    <tr>\n",
       "      <th>13</th>\n",
       "      <td>15</td>\n",
       "      <td>0.040249</td>\n",
       "      <td>0.973664</td>\n",
       "      <td>0.795434</td>\n",
       "      <td>0.618123</td>\n",
       "      <td>3516.148124</td>\n",
       "      <td>2</td>\n",
       "      <td>bert-base-uncased</td>\n",
       "      <td>0.000006</td>\n",
       "    </tr>\n",
       "    <tr>\n",
       "      <th>14</th>\n",
       "      <td>15</td>\n",
       "      <td>0.030735</td>\n",
       "      <td>0.982959</td>\n",
       "      <td>0.828798</td>\n",
       "      <td>0.637540</td>\n",
       "      <td>3767.727862</td>\n",
       "      <td>2</td>\n",
       "      <td>bert-base-uncased</td>\n",
       "      <td>0.000006</td>\n",
       "    </tr>\n",
       "  </tbody>\n",
       "</table>\n",
       "</div>"
      ],
      "text/plain": [
       "    epochs  train_loss  train_accuracy  val_loss  val_accuracy         time  \\\n",
       "0       15    1.020870        0.192874  0.942842      0.291262   249.607533   \n",
       "1       15    0.866279        0.386522  0.766524      0.482201   500.819741   \n",
       "2       15    0.663429        0.580945  0.632216      0.576052   752.038532   \n",
       "3       15    0.470664        0.739737  0.557613      0.618123  1003.227200   \n",
       "4       15    0.308950        0.848954  0.591008      0.627832  1254.206833   \n",
       "5       15    0.202038        0.908598  0.580146      0.637540  1504.950478   \n",
       "6       15    0.131563        0.946553  0.623926      0.634304  1756.070040   \n",
       "7       15    0.092297        0.956623  0.620971      0.650485  2007.451801   \n",
       "8       15    0.075282        0.965143  0.688540      0.621359  2258.901383   \n",
       "9       15    0.053923        0.977537  0.701518      0.660194  2510.350192   \n",
       "10      15    0.048161        0.979861  0.659863      0.653722  2761.891391   \n",
       "11      15    0.043317        0.980635  0.768439      0.614887  3013.299712   \n",
       "12      15    0.040955        0.979861  0.754093      0.647249  3264.825410   \n",
       "13      15    0.040249        0.973664  0.795434      0.618123  3516.148124   \n",
       "14      15    0.030735        0.982959  0.828798      0.637540  3767.727862   \n",
       "\n",
       "    batch_size         Bert Model  learning rate  \n",
       "0            2  bert-base-uncased       0.000006  \n",
       "1            2  bert-base-uncased       0.000006  \n",
       "2            2  bert-base-uncased       0.000006  \n",
       "3            2  bert-base-uncased       0.000006  \n",
       "4            2  bert-base-uncased       0.000006  \n",
       "5            2  bert-base-uncased       0.000006  \n",
       "6            2  bert-base-uncased       0.000006  \n",
       "7            2  bert-base-uncased       0.000006  \n",
       "8            2  bert-base-uncased       0.000006  \n",
       "9            2  bert-base-uncased       0.000006  \n",
       "10           2  bert-base-uncased       0.000006  \n",
       "11           2  bert-base-uncased       0.000006  \n",
       "12           2  bert-base-uncased       0.000006  \n",
       "13           2  bert-base-uncased       0.000006  \n",
       "14           2  bert-base-uncased       0.000006  "
      ]
     },
     "execution_count": 42,
     "metadata": {},
     "output_type": "execute_result"
    }
   ],
   "source": [
    "df = pd.DataFrame(result_final)\n",
    "df"
   ]
  },
  {
   "cell_type": "markdown",
   "id": "a7a42e76",
   "metadata": {},
   "source": [
    "After 6th step, validation loss got increase. I took epoch as 6."
   ]
  },
  {
   "cell_type": "markdown",
   "id": "4d4aacfd",
   "metadata": {},
   "source": [
    "## Evaluation Second Task"
   ]
  },
  {
   "cell_type": "code",
   "execution_count": 191,
   "id": "017c7e4b",
   "metadata": {},
   "outputs": [],
   "source": [
    "model_try = BertModel.from_pretrained(\"Task2_BERT_model\")"
   ]
  },
  {
   "cell_type": "code",
   "execution_count": 43,
   "id": "3eb22f84",
   "metadata": {},
   "outputs": [
    {
     "name": "stderr",
     "output_type": "stream",
     "text": [
      "100%|████████████████████████████████████████████████████████████████████████████████| 155/155 [00:18<00:00,  8.36it/s]\n",
      "100%|████████████████████████████████████████████████████████████████████████████████| 155/155 [00:18<00:00,  8.37it/s]\n",
      "100%|████████████████████████████████████████████████████████████████████████████████| 155/155 [00:18<00:00,  8.33it/s]\n",
      "100%|████████████████████████████████████████████████████████████████████████████████| 155/155 [00:18<00:00,  8.31it/s]\n",
      "100%|████████████████████████████████████████████████████████████████████████████████| 155/155 [00:18<00:00,  8.32it/s]\n",
      "100%|████████████████████████████████████████████████████████████████████████████████| 155/155 [00:18<00:00,  8.30it/s]\n"
     ]
    }
   ],
   "source": [
    "results_t2,predictions_t2=evaluate(model_second_task,\n",
    "               train_data,\n",
    "               val_data,\n",
    "               list_numeric_val,\n",
    "               learning_rate=6.5e-6,\n",
    "               epochs=6, \n",
    "               batch_size=2)"
   ]
  },
  {
   "cell_type": "code",
   "execution_count": 44,
   "id": "7d0642f7",
   "metadata": {},
   "outputs": [
    {
     "name": "stdout",
     "output_type": "stream",
     "text": [
      "Model Performance\n"
     ]
    },
    {
     "data": {
      "text/html": [
       "<div>\n",
       "<style scoped>\n",
       "    .dataframe tbody tr th:only-of-type {\n",
       "        vertical-align: middle;\n",
       "    }\n",
       "\n",
       "    .dataframe tbody tr th {\n",
       "        vertical-align: top;\n",
       "    }\n",
       "\n",
       "    .dataframe thead th {\n",
       "        text-align: right;\n",
       "    }\n",
       "</style>\n",
       "<table border=\"1\" class=\"dataframe\">\n",
       "  <thead>\n",
       "    <tr style=\"text-align: right;\">\n",
       "      <th></th>\n",
       "      <th>precision</th>\n",
       "      <th>recall</th>\n",
       "      <th>f1-score</th>\n",
       "      <th>support</th>\n",
       "    </tr>\n",
       "  </thead>\n",
       "  <tbody>\n",
       "    <tr>\n",
       "      <th>0</th>\n",
       "      <td>0.777778</td>\n",
       "      <td>0.622222</td>\n",
       "      <td>0.691358</td>\n",
       "      <td>45.00000</td>\n",
       "    </tr>\n",
       "    <tr>\n",
       "      <th>1</th>\n",
       "      <td>0.581395</td>\n",
       "      <td>0.641026</td>\n",
       "      <td>0.609756</td>\n",
       "      <td>39.00000</td>\n",
       "    </tr>\n",
       "    <tr>\n",
       "      <th>2</th>\n",
       "      <td>0.694444</td>\n",
       "      <td>0.581395</td>\n",
       "      <td>0.632911</td>\n",
       "      <td>43.00000</td>\n",
       "    </tr>\n",
       "    <tr>\n",
       "      <th>3</th>\n",
       "      <td>0.785714</td>\n",
       "      <td>0.647059</td>\n",
       "      <td>0.709677</td>\n",
       "      <td>34.00000</td>\n",
       "    </tr>\n",
       "    <tr>\n",
       "      <th>4</th>\n",
       "      <td>0.627907</td>\n",
       "      <td>0.627907</td>\n",
       "      <td>0.627907</td>\n",
       "      <td>43.00000</td>\n",
       "    </tr>\n",
       "    <tr>\n",
       "      <th>5</th>\n",
       "      <td>0.615385</td>\n",
       "      <td>0.600000</td>\n",
       "      <td>0.607595</td>\n",
       "      <td>40.00000</td>\n",
       "    </tr>\n",
       "    <tr>\n",
       "      <th>6</th>\n",
       "      <td>0.526316</td>\n",
       "      <td>0.857143</td>\n",
       "      <td>0.652174</td>\n",
       "      <td>35.00000</td>\n",
       "    </tr>\n",
       "    <tr>\n",
       "      <th>7</th>\n",
       "      <td>0.592593</td>\n",
       "      <td>0.533333</td>\n",
       "      <td>0.561404</td>\n",
       "      <td>30.00000</td>\n",
       "    </tr>\n",
       "    <tr>\n",
       "      <th>accuracy</th>\n",
       "      <td>0.637540</td>\n",
       "      <td>0.637540</td>\n",
       "      <td>0.637540</td>\n",
       "      <td>0.63754</td>\n",
       "    </tr>\n",
       "    <tr>\n",
       "      <th>macro avg</th>\n",
       "      <td>0.650191</td>\n",
       "      <td>0.638761</td>\n",
       "      <td>0.636598</td>\n",
       "      <td>309.00000</td>\n",
       "    </tr>\n",
       "    <tr>\n",
       "      <th>weighted avg</th>\n",
       "      <td>0.653929</td>\n",
       "      <td>0.637540</td>\n",
       "      <td>0.638213</td>\n",
       "      <td>309.00000</td>\n",
       "    </tr>\n",
       "  </tbody>\n",
       "</table>\n",
       "</div>"
      ],
      "text/plain": [
       "              precision    recall  f1-score    support\n",
       "0              0.777778  0.622222  0.691358   45.00000\n",
       "1              0.581395  0.641026  0.609756   39.00000\n",
       "2              0.694444  0.581395  0.632911   43.00000\n",
       "3              0.785714  0.647059  0.709677   34.00000\n",
       "4              0.627907  0.627907  0.627907   43.00000\n",
       "5              0.615385  0.600000  0.607595   40.00000\n",
       "6              0.526316  0.857143  0.652174   35.00000\n",
       "7              0.592593  0.533333  0.561404   30.00000\n",
       "accuracy       0.637540  0.637540  0.637540    0.63754\n",
       "macro avg      0.650191  0.638761  0.636598  309.00000\n",
       "weighted avg   0.653929  0.637540  0.638213  309.00000"
      ]
     },
     "execution_count": 44,
     "metadata": {},
     "output_type": "execute_result"
    }
   ],
   "source": [
    "#classification report\n",
    "report = classification_report(list_numeric_val, predictions_t2, zero_division=0, output_dict=True)\n",
    "\n",
    "#convert it into dataframe\n",
    "df_report_train2 = pd.DataFrame(report).transpose()\n",
    "print(\"Model Performance\")\n",
    "df_report_train2"
   ]
  },
  {
   "cell_type": "code",
   "execution_count": 45,
   "id": "d3244b13",
   "metadata": {},
   "outputs": [
    {
     "data": {
      "image/png": "[encoded data removed]",
      "text/plain": [
       "<Figure size 640x480 with 2 Axes>"
      ]
     },
     "metadata": {},
     "output_type": "display_data"
    }
   ],
   "source": [
    "#plot confusion matrix\n",
    "plt.figure()\n",
    "cm = confusion_matrix(list_numeric_val, predictions_t2)\n",
    "sns.heatmap(cm, annot=True, fmt=\"d\", linewidths=0.5)\n",
    "plt.title('Confusion Matrix')\n",
    "plt.xlabel('Prediction')\n",
    "plt.ylabel('Actual')\n",
    "plt.show()"
   ]
  },
  {
   "cell_type": "code",
   "execution_count": 51,
   "id": "365290f1",
   "metadata": {
    "scrolled": true
   },
   "outputs": [
    {
     "ename": "NameError",
     "evalue": "name 'model_second_task' is not defined",
     "output_type": "error",
     "traceback": [
      "\u001b[1;31m---------------------------------------------------------------------------\u001b[0m",
      "\u001b[1;31mNameError\u001b[0m                                 Traceback (most recent call last)",
      "Cell \u001b[1;32mIn[51], line 1\u001b[0m\n\u001b[1;32m----> 1\u001b[0m model_second_task\u001b[38;5;241m.\u001b[39mbert\u001b[38;5;241m.\u001b[39msave_pretrained(\u001b[38;5;124m\"\u001b[39m\u001b[38;5;124mTask2_BERT_model\u001b[39m\u001b[38;5;124m\"\u001b[39m)\n",
      "\u001b[1;31mNameError\u001b[0m: name 'model_second_task' is not defined"
     ]
    }
   ],
   "source": [
    "model_second_task.bert.save_pretrained(\"Task2_BERT_model\")"
   ]
  },
  {
   "cell_type": "markdown",
   "id": "66868437",
   "metadata": {},
   "source": [
    "All of the codes were taken from the laboratory notebooks (creating model) and added some extra ones."
   ]
  },
  {
   "cell_type": "code",
   "execution_count": null,
   "id": "e5e73076",
   "metadata": {},
   "outputs": [],
   "source": []
  }
 ],
 "metadata": {
  "kernelspec": {
   "display_name": "Python 3 (ipykernel)",
   "language": "python",
   "name": "python3"
  },
  "language_info": {
   "codemirror_mode": {
    "name": "ipython",
    "version": 3
   },
   "file_extension": ".py",
   "mimetype": "text/x-python",
   "name": "python",
   "nbconvert_exporter": "python",
   "pygments_lexer": "ipython3",
   "version": "3.11.5"
  }
 },
 "nbformat": 4,
 "nbformat_minor": 5
}
